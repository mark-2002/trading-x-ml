{
 "cells": [
  {
   "cell_type": "code",
   "execution_count": 3,
   "metadata": {},
   "outputs": [],
   "source": [
    "import numpy as np\n",
    "import pandas as pd\n",
    "import statsmodels.api as sm\n",
    "import statsmodels\n",
    "import matplotlib.pyplot as plt"
   ]
  },
  {
   "cell_type": "code",
   "execution_count": 4,
   "metadata": {},
   "outputs": [],
   "source": [
    "df1 = pd.read_csv('AMZN1.csv')\n",
    "df2 = pd.read_csv(\"GOOGL.csv\")\n"
   ]
  },
  {
   "cell_type": "code",
   "execution_count": 5,
   "metadata": {},
   "outputs": [
    {
     "data": {
      "text/html": [
       "<div>\n",
       "<style scoped>\n",
       "    .dataframe tbody tr th:only-of-type {\n",
       "        vertical-align: middle;\n",
       "    }\n",
       "\n",
       "    .dataframe tbody tr th {\n",
       "        vertical-align: top;\n",
       "    }\n",
       "\n",
       "    .dataframe thead th {\n",
       "        text-align: right;\n",
       "    }\n",
       "</style>\n",
       "<table border=\"1\" class=\"dataframe\">\n",
       "  <thead>\n",
       "    <tr style=\"text-align: right;\">\n",
       "      <th></th>\n",
       "      <th>Date</th>\n",
       "      <th>Open</th>\n",
       "      <th>High</th>\n",
       "      <th>Low</th>\n",
       "      <th>Close</th>\n",
       "      <th>Volume</th>\n",
       "    </tr>\n",
       "  </thead>\n",
       "  <tbody>\n",
       "    <tr>\n",
       "      <th>0</th>\n",
       "      <td>07/12/2023</td>\n",
       "      <td>130.31</td>\n",
       "      <td>131.26</td>\n",
       "      <td>128.83</td>\n",
       "      <td>130.80</td>\n",
       "      <td>54,022,848</td>\n",
       "    </tr>\n",
       "    <tr>\n",
       "      <th>1</th>\n",
       "      <td>07/11/2023</td>\n",
       "      <td>127.75</td>\n",
       "      <td>129.77</td>\n",
       "      <td>127.35</td>\n",
       "      <td>128.78</td>\n",
       "      <td>49,951,461</td>\n",
       "    </tr>\n",
       "    <tr>\n",
       "      <th>2</th>\n",
       "      <td>07/10/2023</td>\n",
       "      <td>129.07</td>\n",
       "      <td>129.28</td>\n",
       "      <td>125.92</td>\n",
       "      <td>127.13</td>\n",
       "      <td>61,889,289</td>\n",
       "    </tr>\n",
       "    <tr>\n",
       "      <th>3</th>\n",
       "      <td>07/07/2023</td>\n",
       "      <td>128.59</td>\n",
       "      <td>130.97</td>\n",
       "      <td>128.13</td>\n",
       "      <td>129.78</td>\n",
       "      <td>41,992,246</td>\n",
       "    </tr>\n",
       "    <tr>\n",
       "      <th>4</th>\n",
       "      <td>07/06/2023</td>\n",
       "      <td>128.25</td>\n",
       "      <td>128.73</td>\n",
       "      <td>127.37</td>\n",
       "      <td>128.36</td>\n",
       "      <td>40,697,848</td>\n",
       "    </tr>\n",
       "    <tr>\n",
       "      <th>...</th>\n",
       "      <td>...</td>\n",
       "      <td>...</td>\n",
       "      <td>...</td>\n",
       "      <td>...</td>\n",
       "      <td>...</td>\n",
       "      <td>...</td>\n",
       "    </tr>\n",
       "    <tr>\n",
       "      <th>247</th>\n",
       "      <td>07/18/2022</td>\n",
       "      <td>115.00</td>\n",
       "      <td>117.24</td>\n",
       "      <td>113.15</td>\n",
       "      <td>113.76</td>\n",
       "      <td>59,115,422</td>\n",
       "    </tr>\n",
       "    <tr>\n",
       "      <th>248</th>\n",
       "      <td>07/15/2022</td>\n",
       "      <td>112.50</td>\n",
       "      <td>115.59</td>\n",
       "      <td>111.59</td>\n",
       "      <td>113.55</td>\n",
       "      <td>84,317,820</td>\n",
       "    </tr>\n",
       "    <tr>\n",
       "      <th>249</th>\n",
       "      <td>07/14/2022</td>\n",
       "      <td>110.24</td>\n",
       "      <td>111.18</td>\n",
       "      <td>107.58</td>\n",
       "      <td>110.63</td>\n",
       "      <td>51,163,141</td>\n",
       "    </tr>\n",
       "    <tr>\n",
       "      <th>250</th>\n",
       "      <td>07/13/2022</td>\n",
       "      <td>107.03</td>\n",
       "      <td>111.78</td>\n",
       "      <td>106.01</td>\n",
       "      <td>110.40</td>\n",
       "      <td>61,353,809</td>\n",
       "    </tr>\n",
       "    <tr>\n",
       "      <th>251</th>\n",
       "      <td>07/12/2022</td>\n",
       "      <td>112.16</td>\n",
       "      <td>113.23</td>\n",
       "      <td>108.34</td>\n",
       "      <td>109.22</td>\n",
       "      <td>54,280,262</td>\n",
       "    </tr>\n",
       "  </tbody>\n",
       "</table>\n",
       "<p>252 rows × 6 columns</p>\n",
       "</div>"
      ],
      "text/plain": [
       "           Date    Open    High     Low   Close      Volume\n",
       "0    07/12/2023  130.31  131.26  128.83  130.80  54,022,848\n",
       "1    07/11/2023  127.75  129.77  127.35  128.78  49,951,461\n",
       "2    07/10/2023  129.07  129.28  125.92  127.13  61,889,289\n",
       "3    07/07/2023  128.59  130.97  128.13  129.78  41,992,246\n",
       "4    07/06/2023  128.25  128.73  127.37  128.36  40,697,848\n",
       "..          ...     ...     ...     ...     ...         ...\n",
       "247  07/18/2022  115.00  117.24  113.15  113.76  59,115,422\n",
       "248  07/15/2022  112.50  115.59  111.59  113.55  84,317,820\n",
       "249  07/14/2022  110.24  111.18  107.58  110.63  51,163,141\n",
       "250  07/13/2022  107.03  111.78  106.01  110.40  61,353,809\n",
       "251  07/12/2022  112.16  113.23  108.34  109.22  54,280,262\n",
       "\n",
       "[252 rows x 6 columns]"
      ]
     },
     "execution_count": 5,
     "metadata": {},
     "output_type": "execute_result"
    }
   ],
   "source": [
    "df1"
   ]
  },
  {
   "cell_type": "code",
   "execution_count": 6,
   "metadata": {},
   "outputs": [
    {
     "data": {
      "text/html": [
       "<div>\n",
       "<style scoped>\n",
       "    .dataframe tbody tr th:only-of-type {\n",
       "        vertical-align: middle;\n",
       "    }\n",
       "\n",
       "    .dataframe tbody tr th {\n",
       "        vertical-align: top;\n",
       "    }\n",
       "\n",
       "    .dataframe thead th {\n",
       "        text-align: right;\n",
       "    }\n",
       "</style>\n",
       "<table border=\"1\" class=\"dataframe\">\n",
       "  <thead>\n",
       "    <tr style=\"text-align: right;\">\n",
       "      <th></th>\n",
       "      <th>Date</th>\n",
       "      <th>Open</th>\n",
       "      <th>High</th>\n",
       "      <th>Low</th>\n",
       "      <th>Close</th>\n",
       "      <th>Volume</th>\n",
       "    </tr>\n",
       "  </thead>\n",
       "  <tbody>\n",
       "    <tr>\n",
       "      <th>0</th>\n",
       "      <td>07/12/2023</td>\n",
       "      <td>118.80</td>\n",
       "      <td>120.33</td>\n",
       "      <td>118.41</td>\n",
       "      <td>118.93</td>\n",
       "      <td>30,404,410</td>\n",
       "    </tr>\n",
       "    <tr>\n",
       "      <th>1</th>\n",
       "      <td>07/11/2023</td>\n",
       "      <td>116.29</td>\n",
       "      <td>117.71</td>\n",
       "      <td>115.35</td>\n",
       "      <td>117.14</td>\n",
       "      <td>23,078,779</td>\n",
       "    </tr>\n",
       "    <tr>\n",
       "      <th>2</th>\n",
       "      <td>07/10/2023</td>\n",
       "      <td>118.30</td>\n",
       "      <td>118.31</td>\n",
       "      <td>116.14</td>\n",
       "      <td>116.45</td>\n",
       "      <td>35,315,238</td>\n",
       "    </tr>\n",
       "    <tr>\n",
       "      <th>3</th>\n",
       "      <td>07/07/2023</td>\n",
       "      <td>120.10</td>\n",
       "      <td>121.05</td>\n",
       "      <td>119.40</td>\n",
       "      <td>119.48</td>\n",
       "      <td>21,709,551</td>\n",
       "    </tr>\n",
       "    <tr>\n",
       "      <th>4</th>\n",
       "      <td>07/06/2023</td>\n",
       "      <td>119.80</td>\n",
       "      <td>120.30</td>\n",
       "      <td>118.40</td>\n",
       "      <td>120.11</td>\n",
       "      <td>24,778,801</td>\n",
       "    </tr>\n",
       "    <tr>\n",
       "      <th>...</th>\n",
       "      <td>...</td>\n",
       "      <td>...</td>\n",
       "      <td>...</td>\n",
       "      <td>...</td>\n",
       "      <td>...</td>\n",
       "      <td>...</td>\n",
       "    </tr>\n",
       "    <tr>\n",
       "      <th>247</th>\n",
       "      <td>07/18/2022</td>\n",
       "      <td>112.64</td>\n",
       "      <td>113.68</td>\n",
       "      <td>108.37</td>\n",
       "      <td>109.03</td>\n",
       "      <td>43,164,594</td>\n",
       "    </tr>\n",
       "    <tr>\n",
       "      <th>248</th>\n",
       "      <td>07/15/2022</td>\n",
       "      <td>112.00</td>\n",
       "      <td>113.14</td>\n",
       "      <td>110.90</td>\n",
       "      <td>111.78</td>\n",
       "      <td>46,769,119</td>\n",
       "    </tr>\n",
       "    <tr>\n",
       "      <th>249</th>\n",
       "      <td>07/14/2022</td>\n",
       "      <td>110.21</td>\n",
       "      <td>111.09</td>\n",
       "      <td>108.37</td>\n",
       "      <td>110.37</td>\n",
       "      <td>37,003,039</td>\n",
       "    </tr>\n",
       "    <tr>\n",
       "      <th>250</th>\n",
       "      <td>07/13/2022</td>\n",
       "      <td>111.70</td>\n",
       "      <td>114.20</td>\n",
       "      <td>111.20</td>\n",
       "      <td>111.35</td>\n",
       "      <td>43,722,019</td>\n",
       "    </tr>\n",
       "    <tr>\n",
       "      <th>251</th>\n",
       "      <td>07/12/2022</td>\n",
       "      <td>116.22</td>\n",
       "      <td>116.97</td>\n",
       "      <td>113.69</td>\n",
       "      <td>114.02</td>\n",
       "      <td>29,959,700</td>\n",
       "    </tr>\n",
       "  </tbody>\n",
       "</table>\n",
       "<p>252 rows × 6 columns</p>\n",
       "</div>"
      ],
      "text/plain": [
       "           Date    Open    High     Low   Close      Volume\n",
       "0    07/12/2023  118.80  120.33  118.41  118.93  30,404,410\n",
       "1    07/11/2023  116.29  117.71  115.35  117.14  23,078,779\n",
       "2    07/10/2023  118.30  118.31  116.14  116.45  35,315,238\n",
       "3    07/07/2023  120.10  121.05  119.40  119.48  21,709,551\n",
       "4    07/06/2023  119.80  120.30  118.40  120.11  24,778,801\n",
       "..          ...     ...     ...     ...     ...         ...\n",
       "247  07/18/2022  112.64  113.68  108.37  109.03  43,164,594\n",
       "248  07/15/2022  112.00  113.14  110.90  111.78  46,769,119\n",
       "249  07/14/2022  110.21  111.09  108.37  110.37  37,003,039\n",
       "250  07/13/2022  111.70  114.20  111.20  111.35  43,722,019\n",
       "251  07/12/2022  116.22  116.97  113.69  114.02  29,959,700\n",
       "\n",
       "[252 rows x 6 columns]"
      ]
     },
     "execution_count": 6,
     "metadata": {},
     "output_type": "execute_result"
    }
   ],
   "source": [
    "df2"
   ]
  },
  {
   "cell_type": "code",
   "execution_count": 7,
   "metadata": {},
   "outputs": [],
   "source": [
    "x = df1['Close']\n",
    "y = df2['Close']\n"
   ]
  },
  {
   "cell_type": "code",
   "execution_count": 8,
   "metadata": {},
   "outputs": [
    {
     "data": {
      "text/plain": [
       "[<matplotlib.lines.Line2D at 0x2368ceb7580>]"
      ]
     },
     "execution_count": 8,
     "metadata": {},
     "output_type": "execute_result"
    },
    {
     "data": {
      "image/png": "[encoded data removed]",
      "text/plain": [
       "<Figure size 640x480 with 1 Axes>"
      ]
     },
     "metadata": {},
     "output_type": "display_data"
    }
   ],
   "source": [
    "plt.plot(x)\n",
    "plt.plot(y,'g')"
   ]
  },
  {
   "cell_type": "code",
   "execution_count": 9,
   "metadata": {},
   "outputs": [
    {
     "data": {
      "text/plain": [
       "<matplotlib.collections.PathCollection at 0x2368cf0dc70>"
      ]
     },
     "execution_count": 9,
     "metadata": {},
     "output_type": "execute_result"
    },
    {
     "data": {
      "image/png": "[encoded data removed]",
      "text/plain": [
       "<Figure size 640x480 with 1 Axes>"
      ]
     },
     "metadata": {},
     "output_type": "display_data"
    }
   ],
   "source": [
    "plt.scatter(x,y)"
   ]
  },
  {
   "cell_type": "code",
   "execution_count": 10,
   "metadata": {},
   "outputs": [
    {
     "data": {
      "text/plain": [
       "0.5695215549897386"
      ]
     },
     "execution_count": 10,
     "metadata": {},
     "output_type": "execute_result"
    }
   ],
   "source": [
    "x_with_intercept = sm.add_constant(x)\n",
    "regression_result = sm.OLS(y,x_with_intercept).fit()\n",
    "hedge_ratio = regression_result.params[1]\n",
    "hedge_ratio"
   ]
  },
  {
   "cell_type": "code",
   "execution_count": 11,
   "metadata": {},
   "outputs": [],
   "source": [
    "adf_test = sm.tsa.stattools.adfuller(y,maxlag=1)\n",
    "adf_t_stats=adf_test[0]\n",
    "adf_crit=adf_test[4]"
   ]
  },
  {
   "cell_type": "code",
   "execution_count": 12,
   "metadata": {},
   "outputs": [
    {
     "data": {
      "text/plain": [
       "-1.8053162401892693"
      ]
     },
     "execution_count": 12,
     "metadata": {},
     "output_type": "execute_result"
    }
   ],
   "source": [
    "adf_t_stats\n"
   ]
  },
  {
   "cell_type": "code",
   "execution_count": 13,
   "metadata": {},
   "outputs": [
    {
     "data": {
      "text/plain": [
       "{'1%': -3.4566744514553016,\n",
       " '5%': -2.8731248767783426,\n",
       " '10%': -2.5729436702592023}"
      ]
     },
     "execution_count": 13,
     "metadata": {},
     "output_type": "execute_result"
    }
   ],
   "source": [
    "adf_crit"
   ]
  },
  {
   "cell_type": "code",
   "execution_count": 14,
   "metadata": {},
   "outputs": [
    {
     "data": {
      "text/plain": [
       "array([[118.93, 130.8 ],\n",
       "       [117.14, 128.78],\n",
       "       [116.45, 127.13],\n",
       "       [119.48, 129.78],\n",
       "       [120.11, 128.36],\n",
       "       [121.75, 130.38],\n",
       "       [119.9 , 130.22],\n",
       "       [119.7 , 130.36],\n",
       "       [119.1 , 127.9 ],\n",
       "       [120.18, 129.04],\n",
       "       [118.33, 129.18],\n",
       "       [118.34, 127.33],\n",
       "       [122.34, 129.33],\n",
       "       [123.15, 130.15],\n",
       "       [120.55, 124.83],\n",
       "       [123.1 , 125.78],\n",
       "       [123.53, 125.49],\n",
       "       [125.09, 127.11],\n",
       "       [123.67, 126.42],\n",
       "       [123.83, 126.66],\n",
       "       [123.64, 126.57],\n",
       "       [122.23, 123.43],\n",
       "       [122.14, 124.25],\n",
       "       [122.5 , 121.23],\n",
       "       [127.31, 126.61],\n",
       "       [126.01, 125.3 ],\n",
       "       [124.67, 124.25],\n",
       "       [123.72, 122.77],\n",
       "       [122.87, 120.58],\n",
       "       [123.67, 121.66],\n",
       "       [124.61, 120.11],\n",
       "       [123.48, 115.  ],\n",
       "       [120.9 , 116.75],\n",
       "       [122.56, 114.99],\n",
       "       [125.05, 115.01],\n",
       "       [122.76, 116.25],\n",
       "       [122.83, 118.15],\n",
       "       [120.84, 115.5 ],\n",
       "       [119.51, 113.4 ],\n",
       "       [116.51, 111.2 ],\n",
       "       [117.51, 110.26],\n",
       "       [116.57, 112.18],\n",
       "       [111.75, 110.19],\n",
       "       [107.35, 106.62],\n",
       "       [107.77, 105.83],\n",
       "       [105.57, 105.66],\n",
       "       [104.69, 104.  ],\n",
       "       [105.41, 103.65],\n",
       "       [105.32, 103.63],\n",
       "       [107.2 , 102.05],\n",
       "       [107.34, 105.45],\n",
       "       [107.59, 109.82],\n",
       "       [103.71, 104.98],\n",
       "       [103.85, 102.57],\n",
       "       [105.97, 106.21],\n",
       "       [105.41, 106.96],\n",
       "       [105.29, 103.81],\n",
       "       [104.18, 104.3 ],\n",
       "       [104.5 , 102.3 ],\n",
       "       [105.97, 102.74],\n",
       "       [108.87, 102.51],\n",
       "       [107.43, 102.4 ],\n",
       "       [104.64,  97.83],\n",
       "       [105.35,  99.92],\n",
       "       [106.44, 102.17],\n",
       "       [108.42, 102.06],\n",
       "       [104.47, 101.1 ],\n",
       "       [104.72, 103.95],\n",
       "       [104.36, 102.41],\n",
       "       [103.73, 103.29],\n",
       "       [100.89, 102.  ],\n",
       "       [101.39, 100.25],\n",
       "       [101.03,  97.24],\n",
       "       [102.46,  98.04],\n",
       "       [105.44,  98.13],\n",
       "       [105.6 ,  98.71],\n",
       "       [103.37,  98.7 ],\n",
       "       [104.92, 100.61],\n",
       "       [101.22,  97.71],\n",
       "       [101.62,  98.95],\n",
       "       [100.32, 100.04],\n",
       "       [ 96.11,  96.2 ],\n",
       "       [ 93.97,  94.88],\n",
       "       [ 91.11,  92.43],\n",
       "       [ 90.63,  90.73],\n",
       "       [ 92.32,  92.25],\n",
       "       [ 94.25,  93.92],\n",
       "       [ 93.86,  93.55],\n",
       "       [ 95.13,  93.75],\n",
       "       [ 93.65,  94.9 ],\n",
       "       [ 92.  ,  92.13],\n",
       "       [ 90.36,  92.17],\n",
       "       [ 90.06,  94.23],\n",
       "       [ 89.87,  93.76],\n",
       "       [ 89.13,  93.5 ],\n",
       "       [ 90.89,  95.82],\n",
       "       [ 91.65,  95.79],\n",
       "       [ 91.79,  94.58],\n",
       "       [ 94.35,  97.2 ],\n",
       "       [ 95.51,  98.15],\n",
       "       [ 96.94, 101.16],\n",
       "       [ 94.68,  99.7 ],\n",
       "       [ 94.61,  99.54],\n",
       "       [ 94.57,  97.61],\n",
       "       [ 95.01,  98.24],\n",
       "       [ 99.37, 100.05],\n",
       "       [107.64, 102.11],\n",
       "       [102.9 , 102.18],\n",
       "       [104.78, 103.39],\n",
       "       [107.74, 112.91],\n",
       "       [100.43, 105.15],\n",
       "       [ 98.84, 103.13],\n",
       "       [ 96.94, 100.55],\n",
       "       [ 99.37, 102.24],\n",
       "       [ 97.52,  99.22],\n",
       "       [ 95.22,  97.18],\n",
       "       [ 97.7 ,  96.32],\n",
       "       [ 99.79,  97.52],\n",
       "       [ 98.02,  97.25],\n",
       "       [ 93.05,  93.68],\n",
       "       [ 91.12,  95.46],\n",
       "       [ 91.29,  96.05],\n",
       "       [ 92.12,  98.12],\n",
       "       [ 91.13,  95.27],\n",
       "       [ 91.52,  95.09],\n",
       "       [ 88.42,  89.87],\n",
       "       [ 88.02,  87.36],\n",
       "       [ 87.34,  86.08],\n",
       "       [ 86.2 ,  83.12],\n",
       "       [ 88.08,  85.14],\n",
       "       [ 89.12,  85.82],\n",
       "       [ 88.23,  84.  ],\n",
       "       [ 88.45,  84.18],\n",
       "       [ 86.02,  81.82],\n",
       "       [ 87.39,  83.04],\n",
       "       [ 89.23,  85.25],\n",
       "       [ 87.76,  83.79],\n",
       "       [ 89.58,  86.77],\n",
       "       [ 89.02,  85.19],\n",
       "       [ 88.44,  84.92],\n",
       "       [ 90.26,  87.86],\n",
       "       [ 90.86,  88.45],\n",
       "       [ 95.07,  91.58],\n",
       "       [ 95.63,  92.49],\n",
       "       [ 93.31,  90.55],\n",
       "       [ 92.83,  89.09],\n",
       "       [ 93.71,  90.35],\n",
       "       [ 94.94,  88.46],\n",
       "       [ 96.98,  88.25],\n",
       "       [ 99.48,  91.01],\n",
       "       [100.44,  94.13],\n",
       "       [100.99,  95.5 ],\n",
       "       [100.99,  96.54],\n",
       "       [ 95.19,  92.42],\n",
       "       [ 96.05,  93.95],\n",
       "       [ 97.46,  93.41],\n",
       "       [ 98.46,  94.13],\n",
       "       [ 97.05,  93.2 ],\n",
       "       [ 95.6 ,  92.46],\n",
       "       [ 97.43,  94.14],\n",
       "       [ 98.36,  94.85],\n",
       "       [ 98.85,  97.12],\n",
       "       [ 98.44,  98.94],\n",
       "       [ 95.7 ,  98.49],\n",
       "       [ 96.41, 100.79],\n",
       "       [ 93.94,  96.63],\n",
       "       [ 87.32,  86.14],\n",
       "       [ 88.9 ,  89.98],\n",
       "       [ 88.49,  90.53],\n",
       "       [ 86.58,  90.98],\n",
       "       [ 83.43,  89.3 ],\n",
       "       [ 86.97,  92.12],\n",
       "       [ 90.47,  96.79],\n",
       "       [ 94.51, 102.44],\n",
       "       [ 96.29, 103.41],\n",
       "       [ 92.22, 110.96],\n",
       "       [ 94.93, 115.66],\n",
       "       [104.48, 120.6 ],\n",
       "       [102.52, 119.82],\n",
       "       [101.13, 119.32],\n",
       "       [ 99.97, 115.25],\n",
       "       [ 99.63, 115.07],\n",
       "       [100.77, 116.36],\n",
       "       [ 99.97, 113.79],\n",
       "       [ 96.56, 106.9 ],\n",
       "       [ 99.06, 112.53],\n",
       "       [ 97.56, 112.9 ],\n",
       "       [ 97.18, 112.21],\n",
       "       [ 97.86, 113.67],\n",
       "       [ 98.68, 114.56],\n",
       "       [101.42, 120.3 ],\n",
       "       [101.43, 120.95],\n",
       "       [101.64, 121.09],\n",
       "       [ 98.64, 115.88],\n",
       "       [ 95.65, 113.  ],\n",
       "       [ 97.42, 114.8 ],\n",
       "       [100.05, 118.01],\n",
       "       [ 97.5 , 114.41],\n",
       "       [ 98.17, 115.15],\n",
       "       [ 98.74, 113.78],\n",
       "       [100.14, 117.31],\n",
       "       [ 99.28, 118.54],\n",
       "       [101.14, 122.19],\n",
       "       [103.07, 124.66],\n",
       "       [102.8 , 123.53],\n",
       "       [102.91, 126.28],\n",
       "       [105.  , 128.55],\n",
       "       [104.32, 126.82],\n",
       "       [110.86, 136.45],\n",
       "       [110.65, 133.27],\n",
       "       [108.38, 129.82],\n",
       "       [109.45, 129.48],\n",
       "       [106.81, 126.11],\n",
       "       [107.85, 127.51],\n",
       "       [109.74, 127.82],\n",
       "       [108.22, 126.77],\n",
       "       [108.94, 128.73],\n",
       "       [109.42, 129.79],\n",
       "       [110.34, 130.75],\n",
       "       [116.65, 137.28],\n",
       "       [113.69, 133.8 ],\n",
       "       [113.86, 133.62],\n",
       "       [114.24, 133.22],\n",
       "       [117.21, 138.23],\n",
       "       [120.17, 142.3 ],\n",
       "       [119.55, 142.1 ],\n",
       "       [121.7 , 144.78],\n",
       "       [122.08, 143.18],\n",
       "       [121.68, 143.55],\n",
       "       [118.84, 140.64],\n",
       "       [119.7 , 142.69],\n",
       "       [116.63, 137.83],\n",
       "       [117.3 , 139.41],\n",
       "       [117.47, 140.8 ],\n",
       "       [118.19, 142.57],\n",
       "       [118.08, 139.52],\n",
       "       [115.13, 134.16],\n",
       "       [114.86, 135.39],\n",
       "       [116.32, 134.95],\n",
       "       [114.22, 122.28],\n",
       "       [113.06, 120.97],\n",
       "       [105.02, 114.81],\n",
       "       [107.51, 121.14],\n",
       "       [107.9 , 122.42],\n",
       "       [114.34, 124.63],\n",
       "       [113.9 , 122.77],\n",
       "       [113.81, 118.21],\n",
       "       [109.03, 113.76],\n",
       "       [111.78, 113.55],\n",
       "       [110.37, 110.63],\n",
       "       [111.35, 110.4 ],\n",
       "       [114.02, 109.22]])"
      ]
     },
     "execution_count": 14,
     "metadata": {},
     "output_type": "execute_result"
    }
   ],
   "source": [
    "#Set the input for the johanson test\n",
    "j = np.column_stack((y,x))\n",
    "#run the test\n",
    "jr = statsmodels.tsa.vector_ar.vecm.coint_johansen(j,det_order=0,k_ar_diff=1)\n",
    "\n",
    "j"
   ]
  },
  {
   "cell_type": "code",
   "execution_count": 15,
   "metadata": {},
   "outputs": [
    {
     "data": {
      "text/plain": [
       "array([0.03288351, 0.01616044])"
      ]
     },
     "execution_count": 15,
     "metadata": {},
     "output_type": "execute_result"
    }
   ],
   "source": [
    "j_ei = jr.eig\n",
    "j_evec = jr.evec\n",
    "\n",
    "j_ei\n"
   ]
  },
  {
   "cell_type": "code",
   "execution_count": 16,
   "metadata": {},
   "outputs": [
    {
     "name": "stdout",
     "output_type": "stream",
     "text": [
      "Johansen MLE estimates\n",
      "NULL:\t\t\tTrace Statistic\tCrit 90%\tCrit 95%\tCrit 99%\n",
      "r <= 0\tvariable 1\t12.432193299221607\t\t13.4294\t\t15.4943\t\t19.9349\n",
      "r <= 1\tvariable 2\t4.073111301333703\t\t2.7055\t\t3.8415\t\t6.6349\n",
      "\n",
      "NULL:\t\t\tEigen Statistic\tCrit 90%\tCrit 95%\tCrit 99%\n",
      "r <= 0\tvariable 1\t8.359081997887904\t\t12.2971\t\t14.2639\t\t18.52\n",
      "r <= 1\tvariable 2\t4.073111301333703\t\t2.7055\t\t3.8415\t\t6.6349\n",
      "\n"
     ]
    }
   ],
   "source": [
    "print(\"Johansen MLE estimates\")\n",
    "print(\"NULL:\\t\\t\\tTrace Statistic\\tCrit 90%\\tCrit 95%\\tCrit 99%\")\n",
    "print(f\"r <= 0\\tvariable 1\\t{jr.lr1[0]}\\t\\t{jr.cvt[0, 0]}\\t\\t{jr.cvt[0, 1]}\\t\\t{jr.cvt[0, 2]}\")\n",
    "print(f\"r <= 1\\tvariable 2\\t{jr.lr1[1]}\\t\\t{jr.cvt[1, 0]}\\t\\t{jr.cvt[1, 1]}\\t\\t{jr.cvt[1, 2]}\\n\")\n",
    "print(\"NULL:\\t\\t\\tEigen Statistic\\tCrit 90%\\tCrit 95%\\tCrit 99%\")\n",
    "print(f\"r <= 0\\tvariable 1\\t{jr.lr2[0]}\\t\\t{jr.cvm[0, 0]}\\t\\t{jr.cvm[0, 1]}\\t\\t{jr.cvm[0, 2]}\")\n",
    "print(f\"r <= 1\\tvariable 2\\t{jr.lr2[1]}\\t\\t{jr.cvm[1, 0]}\\t\\t{jr.cvm[1, 1]}\\t\\t{jr.cvm[1, 2]}\\n\")"
   ]
  },
  {
   "cell_type": "code",
   "execution_count": 17,
   "metadata": {},
   "outputs": [
    {
     "data": {
      "text/plain": [
       "array([ 8.8578444 ,  8.72821868,  8.74091348,  9.01566194,  9.21453112,\n",
       "        9.32112107,  9.0485196 ,  9.00773718,  9.09250439,  9.17637911,\n",
       "        8.88220322,  9.01678123,  9.48723892,  9.55266198,  9.53596178,\n",
       "        9.85925085,  9.946142  , 10.06921211,  9.90076133,  9.90807328,\n",
       "        9.88536697,  9.89464305,  9.82185149, 10.09431989, 10.44609887,\n",
       "       10.34066386, 10.21038814, 10.17092877, 10.19788604, 10.24307555,\n",
       "       10.4989009 , 10.69284915, 10.1707831 , 10.55228224, 10.93323772,\n",
       "       10.49238402, 10.36649602, 10.25146223, 10.19823272,  9.89572978,\n",
       "       10.11690144,  9.83446763,  9.23736192,  8.81838167,  8.93969448,\n",
       "        8.61406204,  8.59829734,  8.7340392 ,  8.72165603,  9.12399632,\n",
       "        8.90098621,  8.6251117 ,  8.37732052,  8.57213513,  8.63593764,\n",
       "        8.49600137,  8.70410422,  8.4984013 ,  8.69137378,  8.88548183,\n",
       "        9.34738043,  9.13414767,  9.03433277,  8.99306691,  8.99865198,\n",
       "        9.31063476,  8.77306432,  8.60650023,  8.6619631 ,  8.50192789,\n",
       "        8.15855401,  8.36119073,  8.52236828,  8.68444415,  9.13561578,\n",
       "        9.11847671,  8.77673075,  8.87740986,  8.51774699,  8.49000142,\n",
       "        8.211971  ,  7.84158638,  7.6078702 ,  7.344846  ,  7.39338662,\n",
       "        7.54361253,  7.71990847,  7.68662393,  7.86727716,  7.55728893,\n",
       "        7.50309933,  7.24836499,  7.05414907,  7.05877036,  6.96382506,\n",
       "        7.0672692 ,  7.18614121,  7.29465811,  7.49938526,  7.60920954,\n",
       "        7.61235381,  7.37027708,  7.37103341,  7.50368601,  7.52595131,\n",
       "        8.06535865,  9.18725302,  8.45428867,  8.6559868 ,  8.42593089,\n",
       "        7.86137952,  7.76246816,  7.6562218 ,  7.90786534,  7.84094006,\n",
       "        7.63443102,  8.07713577,  8.31180312,  8.05939802,  7.55288185,\n",
       "        7.12848003,  7.11215753,  7.09075859,  7.14367955,  7.2165172 ,\n",
       "        7.11583963,  7.23491694,  7.222539  ,  7.26033481,  7.40378199,\n",
       "        7.51459463,  7.50880058,  7.52964172,  7.32618107,  7.44883843,\n",
       "        7.57247894,  7.45172393,  7.51691865,  7.54454375,  7.47488909,\n",
       "        7.54296039,  7.59267376,  8.01411786,  8.03467564,  7.81790369,\n",
       "        7.84918476,  7.89371536,  8.21852755,  8.54691611,  8.73236089,\n",
       "        8.6554158 ,  8.64135708,  8.56656573,  7.97213809,  7.99418026,\n",
       "        8.24955046,  8.35134364,  8.20168812,  8.03222593,  8.19244554,\n",
       "        8.28420784,  8.19621153,  8.00236225,  7.61393716,  7.55756921,\n",
       "        7.47741224,  7.21515268,  7.18164347,  7.07912592,  6.75344215,\n",
       "        6.39050777,  6.73135234,  6.93301174,  7.14712346,  7.35072395,\n",
       "        6.18273036,  6.2609106 ,  7.37226239,  7.12735518,  6.94984775,\n",
       "        7.06439751,  7.02512775,  7.10742957,  7.16939304,  7.14120585,\n",
       "        7.12025529,  6.86328914,  6.85455304,  6.85398632,  6.91591107,\n",
       "        6.92390712,  6.87869825,  6.90088026,  6.81484072,  6.56277553,\n",
       "        6.70515106,  6.87819854,  6.74548356,  6.79515975,  6.98121888,\n",
       "        6.94236033,  6.72183344,  6.74498814,  6.86375227,  6.90355155,\n",
       "        6.72267889,  6.88039746,  6.90038115,  7.21220166,  7.40864049,\n",
       "        7.3081384 ,  7.49691124,  7.3338344 ,  7.39286842,  7.66082555,\n",
       "        7.5029069 ,  7.47252568,  7.47001051,  7.5422584 ,  8.04169312,\n",
       "        7.83738393,  7.87643579,  7.96355898,  8.05937431,  8.22125379,\n",
       "        8.14042223,  8.27787006,  8.45129095,  8.36325377,  8.13638179,\n",
       "        8.1210283 ,  7.99906857,  7.98833637,  7.91448207,  7.89776465,\n",
       "        8.10021175,  8.03263801,  7.90271848,  8.1585758 ,  8.74723492,\n",
       "        8.66329996,  7.87157757,  7.79875097,  7.76659309,  8.59666387,\n",
       "        8.66285372,  8.97696352,  8.56291097,  9.00033551,  8.99379035,\n",
       "        9.1608311 ,  9.65572721])"
      ]
     },
     "execution_count": 17,
     "metadata": {},
     "output_type": "execute_result"
    }
   ],
   "source": [
    "port=np.sum(np.multiply(np.tile(j_evec[:,0],(j.shape[0],1)),j),axis=1)\n",
    "port"
   ]
  },
  {
   "cell_type": "code",
   "execution_count": 18,
   "metadata": {},
   "outputs": [
    {
     "data": {
      "text/plain": [
       "[<matplotlib.lines.Line2D at 0x2368cfb2460>]"
      ]
     },
     "execution_count": 18,
     "metadata": {},
     "output_type": "execute_result"
    },
    {
     "data": {
      "image/png": "[encoded data removed]",
      "text/plain": [
       "<Figure size 640x480 with 1 Axes>"
      ]
     },
     "metadata": {},
     "output_type": "display_data"
    }
   ],
   "source": [
    "plt.plot(port)"
   ]
  },
  {
   "cell_type": "code",
   "execution_count": 19,
   "metadata": {},
   "outputs": [
    {
     "data": {
      "text/plain": [
       "23.228510616866846"
      ]
     },
     "execution_count": 19,
     "metadata": {},
     "output_type": "execute_result"
    }
   ],
   "source": [
    "lag = np.roll(port,1)\n",
    "lag_diff= port-lag\n",
    "lag_diff[0]=np.nan\n",
    "lag[0]=np.nan\n",
    "regress = sm.OLS(lag_diff[1:],sm.add_constant(lag[1:])).fit()\n",
    "half_life = -np.log(2)/regress.params[1]\n",
    "half_life"
   ]
  },
  {
   "cell_type": "code",
   "execution_count": 20,
   "metadata": {},
   "outputs": [
    {
     "data": {
      "text/plain": [
       "array([ 3.65667798e-02,  0.00000000e+00,  0.00000000e+00,  0.00000000e+00,\n",
       "        0.00000000e+00,  0.00000000e+00,  0.00000000e+00,  0.00000000e+00,\n",
       "        0.00000000e+00,  0.00000000e+00,  0.00000000e+00,  0.00000000e+00,\n",
       "        0.00000000e+00,  0.00000000e+00,  0.00000000e+00,  0.00000000e+00,\n",
       "        0.00000000e+00,  0.00000000e+00,  0.00000000e+00,  0.00000000e+00,\n",
       "        0.00000000e+00,  0.00000000e+00,  0.00000000e+00, -2.25419739e-02,\n",
       "       -8.94795050e-03,  8.22542698e-03,  5.98448982e-03,  4.45212339e-04,\n",
       "       -2.59251512e-03, -1.09297603e-02, -1.62130982e-02,  1.18137360e-02,\n",
       "        5.16159282e-03, -2.82779398e-02,  2.21098164e-03,  2.06274901e-02,\n",
       "        8.85332931e-03,  6.14998524e-03,  1.32420898e-02, -3.06812084e-03,\n",
       "       -2.36628678e-03, -3.38602947e-02, -3.91264868e-02, -1.18659098e-02,\n",
       "       -8.45922041e-03, -1.41299917e-02,  5.03870995e-03,  5.23670099e-03,\n",
       "        1.64942755e-02,  7.59014706e-03, -2.09599559e-02, -2.17579311e-02,\n",
       "       -2.16935142e-03,  1.10159802e-02, -3.26407907e-03,  2.85071862e-03,\n",
       "        1.00499451e-04, -5.38625829e-04,  1.64716392e-02,  2.80283256e-02,\n",
       "        1.05088464e-02,  1.29941976e-02,  5.91228936e-03,  1.54427690e-03,\n",
       "       -1.35918896e-02,  9.52099252e-03,  2.93513228e-02, -4.76538303e-03,\n",
       "       -4.43901101e-03, -2.15209873e-02, -6.02520323e-03,  1.59363820e-02,\n",
       "        1.41901680e-02,  2.72453344e-02,  1.90486396e-02,  1.54361776e-02,\n",
       "        1.03391670e-02, -1.12735434e-02,  1.65927210e-02, -1.35470980e-02,\n",
       "       -2.85369693e-02, -2.67293261e-02, -2.29145092e-02, -1.00912494e-02,\n",
       "        9.63062471e-03,  1.59722767e-02,  6.87162155e-03,  6.94206161e-03,\n",
       "       -6.11748005e-03, -1.70564766e-02, -1.45672743e-02, -2.16318712e-02,\n",
       "       -9.24620488e-03, -4.38312773e-03,  4.13685407e-04,  1.08915059e-02,\n",
       "        1.09064596e-02,  1.49423054e-02,  1.50517100e-02,  5.25933782e-03,\n",
       "       -1.09974974e-02,  1.08888547e-02,  6.14502303e-03,  7.14308218e-03,\n",
       "       -2.60723050e-02, -7.67140746e-02, -1.73200338e-02,  2.22532154e-02,\n",
       "        1.22491649e-03,  3.37749617e-02,  2.68981700e-02,  8.92570180e-03,\n",
       "       -6.43475503e-03, -8.35138519e-03,  1.20919115e-02, -1.06819316e-02,\n",
       "        3.13427230e-02,  8.08805367e-04,  3.39743648e-02,  4.22245983e-02,\n",
       "       -2.09600939e-02, -1.80844938e-03,  1.50628598e-03,  5.93108441e-03,\n",
       "       -1.33548365e-03,  8.80653943e-04,  5.32384226e-03,  1.28373993e-03,\n",
       "        9.24549606e-03,  1.32320561e-02,  5.34461347e-03,  7.57732676e-04,\n",
       "       -9.32185051e-03,  4.11480511e-03,  1.28990186e-02,  1.48795180e-04,\n",
       "        2.80127304e-03,  4.75920992e-03,  2.10179275e-03,  7.99781079e-05,\n",
       "       -5.98229130e-03, -2.33479516e-02, -2.17580645e-02,  9.26149109e-03,\n",
       "        8.69320077e-03, -3.63750539e-03, -1.78746352e-02, -3.12705154e-02,\n",
       "       -2.45363893e-02, -5.10830262e-03,  4.17022431e-03,  4.00332135e-03,\n",
       "        2.99064558e-02,  2.54938933e-02, -1.30455769e-02, -1.66068725e-02,\n",
       "        2.20719761e-03,  1.45782317e-02,  4.27766704e-04,  1.18131090e-02,\n",
       "       -1.73288127e-04,  1.28541450e-02,  2.62700716e-02, -2.00061159e-02,\n",
       "       -6.26844703e-03, -1.55261760e-02, -1.38367098e-02, -6.93850292e-03,\n",
       "       -2.12787526e-02, -3.42595911e-02, -1.11345125e-03,  2.82047605e-02,\n",
       "        2.08084009e-02,  2.00300573e-02, -4.40744169e-02, -4.90373846e-02,\n",
       "        5.37227551e-02,  3.78422363e-02, -1.70892841e-02, -2.58436248e-03,\n",
       "        3.12215060e-03,  1.82024971e-03,  6.11926578e-03,  1.41658640e-03,\n",
       "        2.08779175e-03,  1.23427587e-02,  1.14008934e-02, -4.02690857e-04,\n",
       "        2.66847587e-03,  3.01342669e-03, -1.59076593e-03, -9.50478465e-04,\n",
       "       -2.63060148e-03, -1.39039364e-02, -4.67126223e-03,  1.38249382e-02,\n",
       "        1.73721336e-03, -3.48148870e-03,  1.01605599e-02,  6.30216972e-03,\n",
       "        1.11104212e-02,  8.28772600e-03,  5.97015482e-03,  6.52000736e-03,\n",
       "       -5.68992551e-03,  9.38521951e-04,  7.14080464e-03, -1.30787696e-02,\n",
       "       -2.02164828e-02, -3.57469566e-03, -3.32134628e-03, -9.89065494e-04,\n",
       "        3.98326931e-03, -1.28371907e-02, -4.27623391e-03,  7.22975803e-03,\n",
       "        1.27821614e-03, -2.68329731e-03, -2.18720042e-02, -1.12010746e-02,\n",
       "        5.94737328e-03, -4.65903957e-03, -6.75176101e-03, -9.50043604e-03,\n",
       "       -2.90068831e-03, -1.97350419e-03, -1.08776769e-02, -2.93399626e-03,\n",
       "        1.08421874e-02,  8.34972939e-03,  4.84101311e-03,  4.63244142e-03,\n",
       "        3.04015494e-03,  3.23013490e-03, -6.59418499e-03,  4.74847053e-03,\n",
       "        7.01143658e-03, -4.60824357e-03,  3.08490199e-02, -1.83080906e-02,\n",
       "        3.32510767e-02,  3.31723280e-02, -4.30535240e-03,  3.16352695e-02,\n",
       "        3.53217281e-02, -1.43389532e-02,  3.79710109e-03, -8.99647707e-04,\n",
       "       -1.72870674e-02, -6.33564193e-03, -2.65777808e-02,  1.21002972e-02])"
      ]
     },
     "execution_count": 20,
     "metadata": {},
     "output_type": "execute_result"
    }
   ],
   "source": [
    "lookback=round(half_life)\n",
    "mvavg=pd.Series(port).rolling(window=lookback).mean().values\n",
    "mvstd=pd.Series(port).rolling(window=lookback).std().values\n",
    "units_to_invest=-(port-mvavg)/mvstd\n",
    "# Ensure numUnits is a column vector\n",
    "units_to_invest = units_to_invest.reshape(-1, 1)\n",
    "\n",
    "# Repeat numUnits along the rows to match the shape of y3\n",
    "positions_amount_to_inest_in_each_asset= units_to_invest * np.tile(j_evec[:, 0].T, (j.shape[0], 1)) * j\n",
    "pnl = np.sum(np.roll(positions_amount_to_inest_in_each_asset, 1, axis=0) * (np.roll(j, -1, axis=0) - np.roll(j, 1, axis=0)) / np.roll(j, 1, axis=0), axis=1)\n",
    "ret = pnl / np.sum(np.abs(np.roll(positions_amount_to_inest_in_each_asset, 1, axis=0)), axis=1)\n",
    "ret[np.isnan(ret)] = 0\n",
    "ret"
   ]
  },
  {
   "cell_type": "code",
   "execution_count": 21,
   "metadata": {},
   "outputs": [
    {
     "data": {
      "image/png": "[encoded data removed]",
      "text/plain": [
       "<Figure size 640x480 with 1 Axes>"
      ]
     },
     "metadata": {},
     "output_type": "display_data"
    }
   ],
   "source": [
    "# Plot cumulative compounded return\n",
    "plt.plot(np.cumprod(1 + ret) - 1)\n",
    "plt.show()\n"
   ]
  },
  {
   "cell_type": "code",
   "execution_count": 22,
   "metadata": {},
   "outputs": [
    {
     "name": "stdout",
     "output_type": "stream",
     "text": [
      "APR=0.11198538021360394 Sharpe=0.5471883726160192\n"
     ]
    }
   ],
   "source": [
    "# Calculate APR and Sharpe ratio\n",
    "APR = (np.prod(1 + ret) ** (252 / len(ret))) - 1\n",
    "Sharpe = np.sqrt(252) * np.mean(ret) / np.std(ret)\n",
    "print(f\"APR={APR} Sharpe={Sharpe}\")"
   ]
  },
  {
   "cell_type": "code",
   "execution_count": 23,
   "metadata": {},
   "outputs": [],
   "source": [
    "#BollingerBands\n",
    "\n",
    "lookback = 20\n",
    "hedge_Ratio = np.full((len(x),),np.nan)\n"
   ]
  },
  {
   "cell_type": "code",
   "execution_count": 24,
   "metadata": {},
   "outputs": [
    {
     "data": {
      "text/plain": [
       "array([        nan,         nan,         nan,         nan,         nan,\n",
       "               nan,         nan,         nan,         nan,         nan,\n",
       "               nan,         nan,         nan,         nan,         nan,\n",
       "               nan,         nan,         nan,         nan, -0.42991804,\n",
       "       -0.45138267, -0.36035831, -0.37493527, -0.28028095, -0.29050503,\n",
       "       -0.35997874, -0.35390877, -0.29301181, -0.18467374, -0.12952423,\n",
       "       -0.03634617,  0.03628549,  0.13425117,  0.16025834,  0.11978756,\n",
       "        0.13402223,  0.14446116,  0.16409585,  0.22407462,  0.3327644 ,\n",
       "        0.40338734,  0.47211173,  0.61701142,  0.76483313,  0.86996375,\n",
       "        1.00227871,  1.12960805,  1.22263406,  1.28298309,  1.31589004,\n",
       "        1.37476044,  1.35287786,  1.41343821,  1.3812432 ,  1.32508053,\n",
       "        1.30526648,  1.32487323,  1.31429282,  1.18904856,  1.05527645,\n",
       "        0.77786269,  0.39544112,  0.16061013,  0.13337172,  0.09335062,\n",
       "        0.06708714,  0.09546603,  0.09086273,  0.10175084,  0.11822738,\n",
       "        0.13402466,  0.11602051,  0.31628739,  0.35517667,  0.30318522,\n",
       "        0.31301429,  0.33572974,  0.40280936,  0.49144944,  0.51703432,\n",
       "        0.4320904 ,  0.61182093,  0.93510489,  1.1329625 ,  1.17136642,\n",
       "        1.15145615,  1.15853598,  1.22983764,  1.2510144 ,  1.37912294,\n",
       "        1.54596043,  1.65270019,  1.68078986,  1.69605907,  1.6549971 ,\n",
       "        1.52282525,  1.41214497,  1.25949215,  1.07890585,  0.84831964,\n",
       "        0.61556705,  0.54510104,  0.52746401,  0.53224311,  0.5506344 ,\n",
       "        0.68807861,  1.04728167,  1.16939347,  1.30589392,  1.06894852,\n",
       "        1.07350453,  1.08176602,  1.06768559,  1.05504608,  1.02367706,\n",
       "        0.98151248,  0.89993917,  0.8247425 ,  0.77827623,  0.77619713,\n",
       "        0.83621345,  0.87537601,  0.89496137,  0.92120971,  0.94068168,\n",
       "        0.94253624,  0.86156587,  0.8139071 ,  0.74087891,  0.68626493,\n",
       "        0.66215912,  0.6368685 ,  0.61876742,  0.59251805,  0.56360367,\n",
       "        0.5474404 ,  0.50439797,  0.42024229,  0.33163167,  0.30516359,\n",
       "        0.30887191,  0.32125689,  0.42064157,  0.58693967,  0.77082487,\n",
       "        0.87296025,  0.89929223,  0.92750469,  0.95330223,  1.04253096,\n",
       "        1.0895692 ,  1.10543445,  1.08965016,  1.0790598 ,  1.05099053,\n",
       "        1.046574  ,  1.04737913,  1.0155005 ,  0.99446201,  0.93476083,\n",
       "        0.84239062,  0.68904459,  0.57212168,  0.43979253,  0.27987011,\n",
       "        0.15562253,  0.38082103,  0.49379119,  0.68727617,  0.87531203,\n",
       "        1.02366528,  1.03224938,  0.90610267,  0.74589017,  0.66355641,\n",
       "        0.39096959,  0.29061429,  0.37217652,  0.39789714,  0.40994424,\n",
       "        0.42947354,  0.44334808,  0.45618733,  0.46765058,  0.4733401 ,\n",
       "        0.48588607,  0.50064323,  0.51631993,  0.53231836,  0.53210301,\n",
       "        0.48443757,  0.44822537,  0.42922505,  0.45024096,  0.57933905,\n",
       "        0.50608409,  0.49940548,  0.45257158,  0.4255889 ,  0.41479299,\n",
       "        0.41734519,  0.40289398,  0.38585412,  0.41490196,  0.47563677,\n",
       "        0.48016362,  0.48857147,  0.49787976,  0.54623096,  0.59220445,\n",
       "        0.60906195,  0.6312088 ,  0.63909887,  0.65099634,  0.65745944,\n",
       "        0.6601596 ,  0.66913371,  0.67474116,  0.68625272,  0.79648107,\n",
       "        0.86545632,  0.90353037,  0.9127054 ,  0.90561113,  0.88952393,\n",
       "        0.84193073,  0.81385819,  0.80775551,  0.83114136,  0.82681859,\n",
       "        0.80624178,  0.80215227,  0.79207316,  0.77307928,  0.76971697,\n",
       "        0.77705649,  0.74874847,  0.71571464,  0.65175496,  0.43050763,\n",
       "        0.36053336,  0.42751056,  0.45374355,  0.47480925,  0.45464841,\n",
       "        0.43525854,  0.39261438,  0.36988176,  0.32900873,  0.3066591 ,\n",
       "        0.2770478 ,  0.24238889])"
      ]
     },
     "execution_count": 24,
     "metadata": {},
     "output_type": "execute_result"
    }
   ],
   "source": [
    "for t in range(lookback - 1, hedge_Ratio.shape[0]):\n",
    "    X = np.column_stack((x[t-lookback+1:t+1], np.ones(lookback)))\n",
    "    model = sm.OLS(y[t-lookback+1:t+1], X)\n",
    "    regression_result = model.fit()\n",
    "    hedge_Ratio[t] = regression_result.params[0]\n",
    "hedge_Ratio"
   ]
  },
  {
   "cell_type": "code",
   "execution_count": 25,
   "metadata": {},
   "outputs": [],
   "source": [
    "y2 = np.column_stack((x, y))"
   ]
  },
  {
   "cell_type": "code",
   "execution_count": 26,
   "metadata": {},
   "outputs": [
    {
     "data": {
      "text/plain": [
       "array([          nan,           nan,           nan,           nan,\n",
       "                 nan,           nan,           nan,           nan,\n",
       "                 nan,           nan,           nan,           nan,\n",
       "                 nan,           nan,           nan,           nan,\n",
       "                 nan,           nan,           nan,  107.69016951,\n",
       "        112.94045815,   88.52562332,   92.38030071,   68.31287569,\n",
       "         73.76503734,   90.46625607,   88.09497049,   72.22447995,\n",
       "         44.9588215 ,   31.77618021,    8.89463465,   -8.65336276,\n",
       "        -31.90479118,  -38.06936953,  -28.75620135,  -32.03265337,\n",
       "        -34.81224915,  -38.78241386,  -52.18921953,  -75.77378043,\n",
       "        -91.87953425, -107.99555929, -136.9395152 , -163.65134547,\n",
       "       -185.82425737, -211.7113328 , -235.73790398, -255.60387557,\n",
       "       -268.07931652, -275.34999019, -292.53527458, -294.12917555,\n",
       "       -294.97041906, -285.11622067, -281.15558725, -277.19944179,\n",
       "       -277.03099242, -274.00376735, -245.89524195, -220.24674858,\n",
       "       -164.42461457,  -82.97540981,  -32.51873215,  -27.37721349,\n",
       "        -19.4738719 ,  -14.12050202,  -19.62495135,  -18.96032627,\n",
       "        -21.03902093,  -24.47543292,  -27.19226428,  -23.39437593,\n",
       "        -62.7103008 ,  -71.21292194,  -61.71941509,  -63.95195018,\n",
       "        -67.8409076 ,  -82.78940693,  -97.76403625, -103.70157449,\n",
       "        -86.57363181, -117.65928366, -176.59455809, -207.94393722,\n",
       "       -212.43901346, -212.52426172, -218.00171592, -230.48387268,\n",
       "       -236.29159947, -260.03363069, -284.65769406, -301.6673662 ,\n",
       "       -309.75276418, -311.44732759, -302.25211962, -284.32670314,\n",
       "       -264.69245268, -234.73155279, -206.66441651, -164.28558087,\n",
       "       -121.94383296, -105.95673936, -102.40713746, -102.28648088,\n",
       "       -106.41009848, -137.21663602, -219.66732964, -239.81921264,\n",
       "       -271.84793725, -235.86349077, -220.69106035, -218.48428269,\n",
       "       -210.85722769, -212.70784012, -201.39822467, -188.84300158,\n",
       "       -174.60619795, -162.72994196, -151.9740002 , -144.93929008,\n",
       "       -156.02070567, -163.99294154, -170.25745118, -171.7134894 ,\n",
       "       -175.54060867, -168.04478586, -151.10142157, -141.14776848,\n",
       "       -125.44561739, -118.87481056, -115.83811701, -109.68786132,\n",
       "       -106.81781964,  -99.44822994,  -96.05497329,  -95.51740166,\n",
       "        -86.52947202,  -74.10972734,  -57.77355239,  -52.90315981,\n",
       "        -55.01626471,  -57.60457336,  -78.5127496 , -110.41509134,\n",
       "       -141.72385969, -158.80892779, -165.52372835, -170.1043605 ,\n",
       "       -176.58017184, -198.59172336, -211.99747931, -217.20681532,\n",
       "       -215.23859605, -202.44240818, -199.68820019, -199.75958011,\n",
       "       -201.71474743, -193.19897041, -187.01852525, -179.07213173,\n",
       "       -162.75829087, -135.03206822, -112.92537817,  -85.40331182,\n",
       "        -55.1903858 ,  -29.65698478,  -66.0572163 ,  -88.32936848,\n",
       "       -123.03618008, -155.42040381, -176.81770386, -184.86554163,\n",
       "       -169.67678564, -146.90306868, -132.51221512,  -79.43720161,\n",
       "        -61.20046343,  -83.76949215,  -88.46844952,  -90.37220757,\n",
       "        -92.43129611,  -95.18683355,  -99.05195492,  -99.96498884,\n",
       "        -96.30577631, -102.80863397, -105.36537343, -108.11223097,\n",
       "       -112.60130291, -113.46564549, -107.40949695,  -99.67635733,\n",
       "        -95.60129585,  -96.58569004, -120.87909228, -107.40116565,\n",
       "       -108.90035809,  -95.90444413,  -90.78662383,  -88.1518065 ,\n",
       "        -90.75171149,  -87.75836578,  -86.17280069,  -94.48562307,\n",
       "       -107.650871  , -110.04869966, -114.10586572, -115.07992862,\n",
       "       -135.08837877, -144.45050996, -145.07855744, -150.81471867,\n",
       "       -148.85890895, -153.21849954, -156.18606474, -155.13090527,\n",
       "       -159.03300852, -161.40483314, -165.44866797, -202.2504392 ,\n",
       "       -214.1917842 , -223.60569495, -225.85807831, -231.32930652,\n",
       "       -233.47334528, -220.29117522, -216.87692954, -214.26522602,\n",
       "       -220.44362311, -214.54288677, -211.549781  , -204.11566604,\n",
       "       -203.33310168, -199.66318444, -200.71139716, -200.16975254,\n",
       "       -186.65550716, -179.10758752, -163.76646805, -101.81505349,\n",
       "        -84.37562311,  -93.97964634, -103.74846356, -109.35806545,\n",
       "       -108.64733   , -103.01263774,  -91.09438937,  -82.40595726,\n",
       "        -74.13553736,  -67.77166023,  -61.43534859,  -54.11089568])"
      ]
     },
     "execution_count": 26,
     "metadata": {},
     "output_type": "execute_result"
    }
   ],
   "source": [
    "yport = np.sum((-hedge_Ratio[:, np.newaxis] * np.ones((y2.shape[0], 1))) * y2, axis=1)\n",
    "yport"
   ]
  },
  {
   "cell_type": "code",
   "execution_count": 27,
   "metadata": {},
   "outputs": [],
   "source": [
    "hedge_Ratio = hedge_Ratio[lookback:]\n",
    "yport = yport[lookback:]\n",
    "y2 = y2[lookback:, :]\n",
    "\n"
   ]
  },
  {
   "cell_type": "code",
   "execution_count": 28,
   "metadata": {},
   "outputs": [
    {
     "data": {
      "text/plain": [
       "0           NaN\n",
       "1           NaN\n",
       "2           NaN\n",
       "3           NaN\n",
       "4           NaN\n",
       "         ...   \n",
       "227    1.327214\n",
       "228    1.337263\n",
       "229    1.315605\n",
       "230    1.300172\n",
       "231    1.303735\n",
       "Length: 232, dtype: float64"
      ]
     },
     "execution_count": 28,
     "metadata": {},
     "output_type": "execute_result"
    }
   ],
   "source": [
    "entryZscore = 1\n",
    "exitZscore = 0\n",
    "\n",
    "MA = pd.Series(yport).rolling(lookback).mean()\n",
    "MSTD = pd.Series(yport).rolling(lookback).std()\n",
    "zScore = (yport - MA) / MSTD\n",
    "\n",
    "longsEntry = zScore < -entryZscore\n",
    "longsExit = zScore > -exitZscore\n",
    "\n",
    "shortsEntry = zScore > entryZscore\n",
    "shortsExit = zScore < exitZscore\n",
    "\n",
    "zScore"
   ]
  },
  {
   "cell_type": "code",
   "execution_count": 29,
   "metadata": {},
   "outputs": [
    {
     "data": {
      "text/plain": [
       "array([ 0.,  0.,  0.,  0.,  0.,  0.,  0.,  0.,  0.,  0.,  0.,  0.,  0.,\n",
       "        0.,  0.,  0.,  0.,  0.,  0.,  1.,  1.,  1.,  1.,  1.,  1.,  1.,\n",
       "        1.,  1.,  1.,  1.,  1.,  1.,  1.,  1.,  1.,  1.,  1.,  1.,  1.,\n",
       "        0., -1., -1., -1., -1., -1., -1., -1., -1., -1., -1., -1., -1.,\n",
       "       -1., -1., -1., -1., -1.,  0.,  0.,  1.,  1.,  1.,  1.,  1.,  1.,\n",
       "        1.,  1.,  1.,  1.,  1.,  1.,  1.,  1.,  1.,  1.,  1.,  1.,  1.,\n",
       "        0., -1., -1., -1., -1., -1., -1., -1.,  0.,  0.,  0.,  0.,  0.,\n",
       "        0.,  0.,  0.,  0.,  0.,  0.,  0.,  0.,  0.,  0.,  0.,  0.,  0.,\n",
       "        0.,  0., -1., -1., -1., -1., -1., -1., -1., -1., -1., -1., -1.,\n",
       "       -1., -1., -1., -1., -1., -1.,  0.,  1.,  1.,  1.,  1.,  1.,  1.,\n",
       "        1.,  1.,  1.,  1.,  1.,  1.,  1.,  1.,  1.,  1.,  0., -1., -1.,\n",
       "       -1., -1., -1., -1., -1., -1.,  0.,  0.,  0.,  0.,  0.,  0., -1.,\n",
       "       -1., -1., -1., -1., -1., -1., -1., -1., -1., -1., -1., -1., -1.,\n",
       "        0.,  0.,  0.,  0.,  0.,  1.,  1.,  1.,  0., -1., -1., -1., -1.,\n",
       "       -1., -1.,  0.,  0.,  1.,  1.,  1.,  1.,  1.,  1.,  1.,  1.,  1.,\n",
       "        1.,  1.,  1.,  1.,  1.,  1.,  1.,  1.,  1.,  1.,  1.,  1.,  1.,\n",
       "        1.,  1.,  1.,  1.,  1.,  0.,  0.,  0., -1., -1., -1., -1., -1.,\n",
       "       -1., -1., -1., -1., -1., -1., -1., -1., -1., -1., -1.])"
      ]
     },
     "execution_count": 29,
     "metadata": {},
     "output_type": "execute_result"
    }
   ],
   "source": [
    "numUnitsLong = np.full((len(yport),), np.nan)\n",
    "numUnitsShort = np.full((len(yport),), np.nan)\n",
    "\n",
    "numUnitsLong[0] = 0\n",
    "numUnitsLong[longsEntry] = 1\n",
    "numUnitsLong[longsExit] = 0\n",
    "numUnitsLong = pd.Series(numUnitsLong).fillna(method='ffill').values\n",
    "\n",
    "numUnitsShort[0] = 0\n",
    "numUnitsShort[shortsEntry] = -1\n",
    "numUnitsShort[shortsExit] = 0\n",
    "numUnitsShort = pd.Series(numUnitsShort).fillna(method='ffill').values\n",
    "\n",
    "numUnits = numUnitsLong + numUnitsShort\n",
    "\n",
    "numUnits"
   ]
  },
  {
   "cell_type": "code",
   "execution_count": 30,
   "metadata": {},
   "outputs": [
    {
     "data": {
      "text/plain": [
       "array([-1.62000128e+01, -6.77074007e-01,  9.72967447e-02,  1.93841534e+00,\n",
       "        9.83786131e-01, -7.66933280e-01, -8.24351305e-01, -6.37035782e-01,\n",
       "       -1.46505903e-02,  3.21332304e-01, -2.46096044e-02, -1.34844290e-01,\n",
       "        3.33826473e-02, -5.57142366e-01, -3.20516687e-02,  2.65928380e-01,\n",
       "        2.57322683e-01,  4.79611035e-01,  7.10535043e-01,  4.48149238e-01,\n",
       "        9.60034136e-01,  2.25351107e+00, -1.20712981e+00, -1.90429454e+00,\n",
       "        4.01402977e-01,  8.49488355e-01, -1.84963541e+00, -1.08165307e+00,\n",
       "       -3.78851496e+00, -7.71625840e-01,  7.25680289e+00,  4.52038041e+00,\n",
       "       -2.19023680e+00, -1.96437034e+00,  2.23526061e+00, -1.49894524e+00,\n",
       "       -1.05452223e+00, -4.63350148e-01, -3.91258415e+00, -4.98614220e+00,\n",
       "       -1.54070362e+00,  7.97035916e+00,  3.30251753e+00, -4.62909823e+00,\n",
       "       -2.54945119e+00,  1.25390071e+00, -1.64177757e+00, -1.29949874e+00,\n",
       "        7.49954105e-01,  7.63075410e-01,  3.31665208e+00,  4.74123655e+00,\n",
       "        2.08585805e+00, -2.28482739e+00, -1.78525474e+00,  5.75934039e-02,\n",
       "       -1.68715028e+00,  1.71181893e+00,  1.32927087e+00,  4.42304492e-01,\n",
       "        9.88591288e-02, -2.41622598e+00, -7.10895334e-01, -1.02674967e+00,\n",
       "       -1.55088462e+00, -1.05034643e+00, -4.73242472e-01, -1.18951167e+00,\n",
       "        1.60826591e+00,  2.29567507e+00,  1.80731448e+00,  5.09916324e+00,\n",
       "        2.39982309e+00,  8.33134574e-01,  3.30019745e-01, -1.88059268e+00,\n",
       "       -2.61054273e+00, -2.40279141e+00, -1.11531081e+00, -2.79436616e+00,\n",
       "       -8.45894701e-01,  3.05427123e+00,  2.14996111e+00,  1.08901440e+00,\n",
       "       -4.99476693e+00, -1.08245125e+01, -4.55891749e+00,  2.99522557e+00,\n",
       "       -5.65986439e+00,  5.68063855e+00,  9.51364182e+00,  3.74653079e+00,\n",
       "       -5.73335990e-01, -6.19257644e-01,  4.37844123e+00, -1.84261871e-01,\n",
       "       -4.48551204e+00, -2.87980535e-01,  5.55876443e+00,  5.37010601e+00,\n",
       "        1.36610695e+00, -8.36213451e-01,  1.40060161e-01,  5.36976822e-01,\n",
       "        2.49647831e+00,  3.29238589e+00,  1.01793914e+00,  5.80804988e+00,\n",
       "        3.37708749e-01, -4.86336642e+00,  1.03706026e+00,  2.08364661e+00,\n",
       "        3.58747938e+00,  1.79589346e+00, -5.33198295e+00, -9.58533357e-01,\n",
       "       -1.71160414e+00, -2.03554144e+00,  2.32907621e+00, -3.08122326e+00,\n",
       "       -4.26849589e+00, -5.20567389e+00, -5.57239538e+00,  1.77032917e+00,\n",
       "        1.64343109e+00, -5.08329946e-01, -2.47194612e+00, -5.04068560e+00,\n",
       "       -1.66087130e+00,  2.58157429e+00,  2.91577824e+00,  1.81073694e+00,\n",
       "        3.33151982e+00,  2.79287179e+00, -1.45946574e+00, -2.35288717e+00,\n",
       "        2.19095342e-01,  1.32550432e+00,  5.54109809e-01, -3.54715142e-01,\n",
       "        1.65263962e+00, -6.73912493e-02,  8.00490457e-01, -6.88592980e-01,\n",
       "        2.63403486e+00,  1.71940193e+01,  7.43433753e+00, -4.83556061e+00,\n",
       "        1.45595566e-01,  4.70761742e+00, -3.41371691e-01, -7.20660357e+00,\n",
       "       -7.78316033e+00, -5.27351753e+00,  1.70808849e+00,  9.02436718e-01,\n",
       "       -1.44332872e+01, -6.36576246e+00,  2.52679136e+00,  5.58463770e+00,\n",
       "        4.86491636e+00, -1.45357884e+00,  1.12926165e+00,  1.13805487e+01,\n",
       "        1.68556203e+00, -6.47334010e+00,  1.23346582e+00, -9.20192968e-01,\n",
       "       -3.12447990e+00, -8.52505337e+00, -1.46328327e+00, -1.06576264e-01,\n",
       "        1.25054878e+00,  2.57105806e+00,  5.49293967e-01,  2.46090819e+00,\n",
       "       -4.30486727e-01, -1.92111771e+00, -5.61188763e-01, -2.99841013e+00,\n",
       "       -4.98398822e+00, -5.29734519e+00, -7.64696817e+00, -1.98051784e+00,\n",
       "       -1.55361569e+00, -1.04640090e+00, -6.77030702e-01,  5.03697121e+00,\n",
       "        3.29842109e+00, -5.27534722e+00, -3.07935466e+00, -2.75377273e+00,\n",
       "       -9.60065919e-01, -1.62559691e-01, -9.80868647e-01,  1.43596755e+00,\n",
       "        2.22780848e+00,  1.08321281e+00,  2.61162141e+00,  7.51053392e-01,\n",
       "       -1.43781780e+00, -1.05600098e+00,  1.58317327e+00,  3.66765698e+00,\n",
       "        1.75086996e+00,  1.11902839e+00, -1.05008474e+00, -1.21372284e+00,\n",
       "        7.71278455e-02,  7.85659894e-01, -9.82730924e-01, -1.34501972e+00,\n",
       "        2.29619210e+00,  2.45505488e+00, -4.71578358e-01,  2.35533393e+00,\n",
       "        2.50212191e+00, -1.68101068e+00,  1.35680574e+01,  1.61047212e+01,\n",
       "        1.14306702e+01,  1.83096017e+00, -8.84123041e+00, -6.58906847e+00,\n",
       "       -3.19885547e+00,  6.66096366e+00,  1.11297091e+01,  5.45700720e+00,\n",
       "        2.63435844e+00,  3.29147375e+00,  2.90694299e-01, -1.95749174e+01])"
      ]
     },
     "execution_count": 30,
     "metadata": {},
     "output_type": "execute_result"
    }
   ],
   "source": [
    "positions = np.column_stack((numUnits, -hedge_Ratio, np.ones(len(numUnits))))\n",
    "positions = positions[:, :2] * y2\n",
    "pnl = np.sum(np.roll(positions, 1, axis=0) * (np.roll(y2, -1, axis=0) - np.roll(y2, 1, axis=0)) / np.roll(y2, 1, axis=0), axis=1)\n",
    "\n",
    "pnl"
   ]
  },
  {
   "cell_type": "code",
   "execution_count": 31,
   "metadata": {},
   "outputs": [
    {
     "data": {
      "text/plain": [
       "array([-0.11837167, -0.012132  ,  0.00220895,  0.04232848,  0.02865306,\n",
       "       -0.02073678, -0.01817316, -0.01443812, -0.00040414,  0.01416131,\n",
       "       -0.00153635, -0.02977289,  0.0074506 , -0.03432589, -0.00163185,\n",
       "        0.0177529 ,  0.01564027,  0.02702923,  0.03583251,  0.016735  ,\n",
       "        0.00640149,  0.0142933 , -0.00721907, -0.01063014,  0.00212692,\n",
       "        0.00425625, -0.00874654, -0.00486664, -0.01629274, -0.00323189,\n",
       "        0.02984946,  0.01786593, -0.00857651, -0.00780852,  0.00908598,\n",
       "       -0.00607774, -0.00431213, -0.00190439, -0.01621978, -0.02200847,\n",
       "       -0.01377748,  0.04257764,  0.0227945 , -0.04038076, -0.02236935,\n",
       "        0.01118493, -0.01501622, -0.01169947,  0.00660955,  0.00675116,\n",
       "        0.02870225,  0.04104194,  0.01862152, -0.01768517, -0.01328004,\n",
       "        0.00044269, -0.0128043 ,  0.0128318 ,  0.03145254,  0.00889152,\n",
       "        0.00065257, -0.01685104, -0.00458636, -0.00561827, -0.00792666,\n",
       "       -0.00533466, -0.00238346, -0.00585643,  0.00769569,  0.01079003,\n",
       "        0.00806639,  0.02175797,  0.00993683,  0.00339222,  0.00134054,\n",
       "       -0.00780297, -0.01114523, -0.01066897, -0.00530623, -0.02745098,\n",
       "       -0.00472111,  0.01899032,  0.01420897,  0.00728714, -0.03376115,\n",
       "       -0.07189703, -0.02706804,  0.02657005, -0.04703596,  0.04151556,\n",
       "        0.08260627,  0.03475057, -0.0053622 , -0.00598308,  0.04176311,\n",
       "       -0.00184578, -0.04799412, -0.00327533,  0.06754184,  0.0703938 ,\n",
       "        0.01891456, -0.01097454,  0.00175266,  0.00651324,  0.02973774,\n",
       "        0.03824301,  0.01221443,  0.03558963,  0.00214873, -0.03308778,\n",
       "        0.00712334,  0.01438668,  0.02558996,  0.01292847, -0.04015398,\n",
       "       -0.00724552, -0.01276382, -0.01589572,  0.01872017, -0.02686055,\n",
       "       -0.03814267, -0.04497778, -0.04736844,  0.01345538,  0.02927951,\n",
       "       -0.00312865, -0.01453001, -0.02886616, -0.00940911,  0.01428642,\n",
       "        0.01497413,  0.00889507,  0.01608359,  0.01351932, -0.00747923,\n",
       "       -0.01207243,  0.00112121,  0.00671975,  0.00288969, -0.00189151,\n",
       "        0.00892288, -0.00081334,  0.00484464, -0.00443511,  0.01873716,\n",
       "        0.13456768,  0.066826  , -0.04050111,  0.00108752,  0.03110478,\n",
       "       -0.0045045 , -0.08438212, -0.08669656, -0.06433072,  0.02423024,\n",
       "        0.014124  , -0.09817547, -0.04443875,  0.01584344,  0.0347709 ,\n",
       "        0.03025866, -0.00918914,  0.00709154,  0.07010749,  0.01049926,\n",
       "       -0.04241873,  0.0076774 , -0.00568924, -0.01924107, -0.05142927,\n",
       "       -0.02786786, -0.0021692 ,  0.02750665,  0.05893349,  0.01236821,\n",
       "        0.01461227, -0.00262328, -0.01143689, -0.01271795, -0.01910667,\n",
       "       -0.03220949, -0.03329508, -0.04823389, -0.01228493, -0.00927953,\n",
       "       -0.02140078, -0.01370129,  0.02800651,  0.0184518 , -0.02677771,\n",
       "       -0.01548991, -0.01406205, -0.004835  , -0.00083633, -0.0049609 ,\n",
       "        0.00718093,  0.0112395 ,  0.0053724 ,  0.01282595,  0.00363757,\n",
       "       -0.00624623, -0.00454793,  0.00669429,  0.01544358,  0.00716464,\n",
       "        0.00449059, -0.00432574, -0.00497781,  0.00031899,  0.00321093,\n",
       "       -0.00411358, -0.00562306,  0.00992369,  0.01056755, -0.00519282,\n",
       "        0.02589052,  0.02726965, -0.00762836,  0.06235407,  0.07641183,\n",
       "        0.06666957,  0.01132096, -0.05535901, -0.03877703, -0.01842108,\n",
       "        0.0377147 ,  0.06457772,  0.03350047,  0.01709643,  0.02189549,\n",
       "        0.00201206, -0.1385842 ])"
      ]
     },
     "execution_count": 31,
     "metadata": {},
     "output_type": "execute_result"
    }
   ],
   "source": [
    "ret = pnl / np.sum(np.abs(np.roll(positions, 1, axis=0)), axis=1)\n",
    "ret[np.isnan(ret)] = 0\n",
    "ret"
   ]
  },
  {
   "cell_type": "code",
   "execution_count": 32,
   "metadata": {},
   "outputs": [
    {
     "data": {
      "image/png": "[encoded data removed]",
      "text/plain": [
       "<Figure size 640x480 with 1 Axes>"
      ]
     },
     "metadata": {},
     "output_type": "display_data"
    }
   ],
   "source": [
    "cumulative_ret = np.cumprod(1 + ret) - 1\n",
    "plt.plot(cumulative_ret)\n",
    "plt.show()"
   ]
  },
  {
   "cell_type": "code",
   "execution_count": 33,
   "metadata": {},
   "outputs": [
    {
     "name": "stdout",
     "output_type": "stream",
     "text": [
      "APR=0.018049885904089624 Sharpe=0.2845639393655025\n"
     ]
    }
   ],
   "source": [
    "APR = np.prod(1 + ret) ** (252 / len(ret)) - 1\n",
    "Sharpe = np.sqrt(252) * np.mean(ret) / np.std(ret)\n",
    "print(f\"APR={APR} Sharpe={Sharpe}\")\n"
   ]
  },
  {
   "cell_type": "code",
   "execution_count": 52,
   "metadata": {},
   "outputs": [
    {
     "data": {
      "text/plain": [
       "pandas.core.series.Series"
      ]
     },
     "execution_count": 52,
     "metadata": {},
     "output_type": "execute_result"
    }
   ],
   "source": [
    "#bog\n",
    "topN=10\n",
    "zScore=1\n",
    "lookback=20\n",
    "x_cl = df1['Close']\n",
    "x_lo = df1['Low']\n",
    "x_op = df1['Open']\n",
    "x_day = df1['Date']\n",
    "\n",
    "type(x_op)"
   ]
  },
  {
   "cell_type": "code",
   "execution_count": 35,
   "metadata": {},
   "outputs": [
    {
     "data": {
      "text/plain": [
       "0           NaN\n",
       "1           NaN\n",
       "2           NaN\n",
       "3           NaN\n",
       "4           NaN\n",
       "         ...   \n",
       "247    0.154933\n",
       "248    0.157024\n",
       "249    0.152524\n",
       "250    0.150606\n",
       "251    0.148443\n",
       "Name: Close, Length: 252, dtype: float64"
      ]
     },
     "execution_count": 35,
     "metadata": {},
     "output_type": "execute_result"
    }
   ],
   "source": [
    "stdret90=x_cl.pct_change(90).shift(1).rolling(20).std()\n",
    "stdret90"
   ]
  },
  {
   "cell_type": "code",
   "execution_count": 54,
   "metadata": {},
   "outputs": [
    {
     "data": {
      "text/plain": [
       "dtype('float64')"
      ]
     },
     "execution_count": 54,
     "metadata": {},
     "output_type": "execute_result"
    }
   ],
   "source": [
    "buyprice= x_lo.shift(1)*(1-zScore*stdret90)\n",
    "buyprice.dtype"
   ]
  },
  {
   "cell_type": "code",
   "execution_count": 71,
   "metadata": {},
   "outputs": [
    {
     "ename": "AttributeError",
     "evalue": "'numpy.float64' object has no attribute 'isna'",
     "output_type": "error",
     "traceback": [
      "\u001b[1;31m---------------------------------------------------------------------------\u001b[0m",
      "\u001b[1;31mAttributeError\u001b[0m                            Traceback (most recent call last)",
      "Cell \u001b[1;32mIn[71], line 3\u001b[0m\n\u001b[0;32m      1\u001b[0m returngap\u001b[39m=\u001b[39m(x_op\u001b[39m-\u001b[39mx_lo\u001b[39m.\u001b[39mshift(\u001b[39m1\u001b[39m))\u001b[39m/\u001b[39mx_lo\u001b[39m.\u001b[39mshift(\u001b[39m1\u001b[39m)\n\u001b[1;32m----> 3\u001b[0m returngap[\u001b[39m2\u001b[39;49m]\u001b[39m.\u001b[39;49misna()\n",
      "\u001b[1;31mAttributeError\u001b[0m: 'numpy.float64' object has no attribute 'isna'"
     ]
    }
   ],
   "source": [
    "returngap=(x_op-x_lo.shift(1))/x_lo.shift(1)\n",
    "\n",
    "returngap[2].isna()"
   ]
  },
  {
   "cell_type": "code",
   "execution_count": 56,
   "metadata": {},
   "outputs": [
    {
     "data": {
      "text/plain": [
       "Date\n",
       "07/12/2023    0.0\n",
       "07/11/2023    0.0\n",
       "07/10/2023    0.0\n",
       "07/07/2023    0.0\n",
       "07/06/2023    0.0\n",
       "             ... \n",
       "07/18/2022    0.0\n",
       "07/15/2022    0.0\n",
       "07/14/2022    0.0\n",
       "07/13/2022    0.0\n",
       "07/12/2022    0.0\n",
       "Length: 252, dtype: float64"
      ]
     },
     "execution_count": 56,
     "metadata": {},
     "output_type": "execute_result"
    }
   ],
   "source": [
    "pnl = pd.Series(np.zeros(len(x_day)),index=x_day)\n",
    "\n",
    "pnl"
   ]
  },
  {
   "cell_type": "code",
   "execution_count": 57,
   "metadata": {},
   "outputs": [
    {
     "data": {
      "text/html": [
       "<div>\n",
       "<style scoped>\n",
       "    .dataframe tbody tr th:only-of-type {\n",
       "        vertical-align: middle;\n",
       "    }\n",
       "\n",
       "    .dataframe tbody tr th {\n",
       "        vertical-align: top;\n",
       "    }\n",
       "\n",
       "    .dataframe thead th {\n",
       "        text-align: right;\n",
       "    }\n",
       "</style>\n",
       "<table border=\"1\" class=\"dataframe\">\n",
       "  <thead>\n",
       "    <tr style=\"text-align: right;\">\n",
       "      <th>Close</th>\n",
       "      <th>130.80</th>\n",
       "      <th>128.78</th>\n",
       "      <th>127.13</th>\n",
       "      <th>129.78</th>\n",
       "      <th>128.36</th>\n",
       "      <th>130.38</th>\n",
       "      <th>130.22</th>\n",
       "      <th>130.36</th>\n",
       "      <th>127.90</th>\n",
       "      <th>129.04</th>\n",
       "      <th>...</th>\n",
       "      <th>121.14</th>\n",
       "      <th>122.42</th>\n",
       "      <th>124.63</th>\n",
       "      <th>122.77</th>\n",
       "      <th>118.21</th>\n",
       "      <th>113.76</th>\n",
       "      <th>113.55</th>\n",
       "      <th>110.63</th>\n",
       "      <th>110.40</th>\n",
       "      <th>109.22</th>\n",
       "    </tr>\n",
       "    <tr>\n",
       "      <th>Date</th>\n",
       "      <th></th>\n",
       "      <th></th>\n",
       "      <th></th>\n",
       "      <th></th>\n",
       "      <th></th>\n",
       "      <th></th>\n",
       "      <th></th>\n",
       "      <th></th>\n",
       "      <th></th>\n",
       "      <th></th>\n",
       "      <th></th>\n",
       "      <th></th>\n",
       "      <th></th>\n",
       "      <th></th>\n",
       "      <th></th>\n",
       "      <th></th>\n",
       "      <th></th>\n",
       "      <th></th>\n",
       "      <th></th>\n",
       "      <th></th>\n",
       "      <th></th>\n",
       "    </tr>\n",
       "  </thead>\n",
       "  <tbody>\n",
       "    <tr>\n",
       "      <th>07/12/2023</th>\n",
       "      <td>0</td>\n",
       "      <td>0</td>\n",
       "      <td>0</td>\n",
       "      <td>0</td>\n",
       "      <td>0</td>\n",
       "      <td>0</td>\n",
       "      <td>0</td>\n",
       "      <td>0</td>\n",
       "      <td>0</td>\n",
       "      <td>0</td>\n",
       "      <td>...</td>\n",
       "      <td>0</td>\n",
       "      <td>0</td>\n",
       "      <td>0</td>\n",
       "      <td>0</td>\n",
       "      <td>0</td>\n",
       "      <td>0</td>\n",
       "      <td>0</td>\n",
       "      <td>0</td>\n",
       "      <td>0</td>\n",
       "      <td>0</td>\n",
       "    </tr>\n",
       "    <tr>\n",
       "      <th>07/11/2023</th>\n",
       "      <td>0</td>\n",
       "      <td>0</td>\n",
       "      <td>0</td>\n",
       "      <td>0</td>\n",
       "      <td>0</td>\n",
       "      <td>0</td>\n",
       "      <td>0</td>\n",
       "      <td>0</td>\n",
       "      <td>0</td>\n",
       "      <td>0</td>\n",
       "      <td>...</td>\n",
       "      <td>0</td>\n",
       "      <td>0</td>\n",
       "      <td>0</td>\n",
       "      <td>0</td>\n",
       "      <td>0</td>\n",
       "      <td>0</td>\n",
       "      <td>0</td>\n",
       "      <td>0</td>\n",
       "      <td>0</td>\n",
       "      <td>0</td>\n",
       "    </tr>\n",
       "    <tr>\n",
       "      <th>07/10/2023</th>\n",
       "      <td>0</td>\n",
       "      <td>0</td>\n",
       "      <td>0</td>\n",
       "      <td>0</td>\n",
       "      <td>0</td>\n",
       "      <td>0</td>\n",
       "      <td>0</td>\n",
       "      <td>0</td>\n",
       "      <td>0</td>\n",
       "      <td>0</td>\n",
       "      <td>...</td>\n",
       "      <td>0</td>\n",
       "      <td>0</td>\n",
       "      <td>0</td>\n",
       "      <td>0</td>\n",
       "      <td>0</td>\n",
       "      <td>0</td>\n",
       "      <td>0</td>\n",
       "      <td>0</td>\n",
       "      <td>0</td>\n",
       "      <td>0</td>\n",
       "    </tr>\n",
       "    <tr>\n",
       "      <th>07/07/2023</th>\n",
       "      <td>0</td>\n",
       "      <td>0</td>\n",
       "      <td>0</td>\n",
       "      <td>0</td>\n",
       "      <td>0</td>\n",
       "      <td>0</td>\n",
       "      <td>0</td>\n",
       "      <td>0</td>\n",
       "      <td>0</td>\n",
       "      <td>0</td>\n",
       "      <td>...</td>\n",
       "      <td>0</td>\n",
       "      <td>0</td>\n",
       "      <td>0</td>\n",
       "      <td>0</td>\n",
       "      <td>0</td>\n",
       "      <td>0</td>\n",
       "      <td>0</td>\n",
       "      <td>0</td>\n",
       "      <td>0</td>\n",
       "      <td>0</td>\n",
       "    </tr>\n",
       "    <tr>\n",
       "      <th>07/06/2023</th>\n",
       "      <td>0</td>\n",
       "      <td>0</td>\n",
       "      <td>0</td>\n",
       "      <td>0</td>\n",
       "      <td>0</td>\n",
       "      <td>0</td>\n",
       "      <td>0</td>\n",
       "      <td>0</td>\n",
       "      <td>0</td>\n",
       "      <td>0</td>\n",
       "      <td>...</td>\n",
       "      <td>0</td>\n",
       "      <td>0</td>\n",
       "      <td>0</td>\n",
       "      <td>0</td>\n",
       "      <td>0</td>\n",
       "      <td>0</td>\n",
       "      <td>0</td>\n",
       "      <td>0</td>\n",
       "      <td>0</td>\n",
       "      <td>0</td>\n",
       "    </tr>\n",
       "    <tr>\n",
       "      <th>...</th>\n",
       "      <td>...</td>\n",
       "      <td>...</td>\n",
       "      <td>...</td>\n",
       "      <td>...</td>\n",
       "      <td>...</td>\n",
       "      <td>...</td>\n",
       "      <td>...</td>\n",
       "      <td>...</td>\n",
       "      <td>...</td>\n",
       "      <td>...</td>\n",
       "      <td>...</td>\n",
       "      <td>...</td>\n",
       "      <td>...</td>\n",
       "      <td>...</td>\n",
       "      <td>...</td>\n",
       "      <td>...</td>\n",
       "      <td>...</td>\n",
       "      <td>...</td>\n",
       "      <td>...</td>\n",
       "      <td>...</td>\n",
       "      <td>...</td>\n",
       "    </tr>\n",
       "    <tr>\n",
       "      <th>07/18/2022</th>\n",
       "      <td>0</td>\n",
       "      <td>0</td>\n",
       "      <td>0</td>\n",
       "      <td>0</td>\n",
       "      <td>0</td>\n",
       "      <td>0</td>\n",
       "      <td>0</td>\n",
       "      <td>0</td>\n",
       "      <td>0</td>\n",
       "      <td>0</td>\n",
       "      <td>...</td>\n",
       "      <td>0</td>\n",
       "      <td>0</td>\n",
       "      <td>0</td>\n",
       "      <td>0</td>\n",
       "      <td>0</td>\n",
       "      <td>0</td>\n",
       "      <td>0</td>\n",
       "      <td>0</td>\n",
       "      <td>0</td>\n",
       "      <td>0</td>\n",
       "    </tr>\n",
       "    <tr>\n",
       "      <th>07/15/2022</th>\n",
       "      <td>0</td>\n",
       "      <td>0</td>\n",
       "      <td>0</td>\n",
       "      <td>0</td>\n",
       "      <td>0</td>\n",
       "      <td>0</td>\n",
       "      <td>0</td>\n",
       "      <td>0</td>\n",
       "      <td>0</td>\n",
       "      <td>0</td>\n",
       "      <td>...</td>\n",
       "      <td>0</td>\n",
       "      <td>0</td>\n",
       "      <td>0</td>\n",
       "      <td>0</td>\n",
       "      <td>0</td>\n",
       "      <td>0</td>\n",
       "      <td>0</td>\n",
       "      <td>0</td>\n",
       "      <td>0</td>\n",
       "      <td>0</td>\n",
       "    </tr>\n",
       "    <tr>\n",
       "      <th>07/14/2022</th>\n",
       "      <td>0</td>\n",
       "      <td>0</td>\n",
       "      <td>0</td>\n",
       "      <td>0</td>\n",
       "      <td>0</td>\n",
       "      <td>0</td>\n",
       "      <td>0</td>\n",
       "      <td>0</td>\n",
       "      <td>0</td>\n",
       "      <td>0</td>\n",
       "      <td>...</td>\n",
       "      <td>0</td>\n",
       "      <td>0</td>\n",
       "      <td>0</td>\n",
       "      <td>0</td>\n",
       "      <td>0</td>\n",
       "      <td>0</td>\n",
       "      <td>0</td>\n",
       "      <td>0</td>\n",
       "      <td>0</td>\n",
       "      <td>0</td>\n",
       "    </tr>\n",
       "    <tr>\n",
       "      <th>07/13/2022</th>\n",
       "      <td>0</td>\n",
       "      <td>0</td>\n",
       "      <td>0</td>\n",
       "      <td>0</td>\n",
       "      <td>0</td>\n",
       "      <td>0</td>\n",
       "      <td>0</td>\n",
       "      <td>0</td>\n",
       "      <td>0</td>\n",
       "      <td>0</td>\n",
       "      <td>...</td>\n",
       "      <td>0</td>\n",
       "      <td>0</td>\n",
       "      <td>0</td>\n",
       "      <td>0</td>\n",
       "      <td>0</td>\n",
       "      <td>0</td>\n",
       "      <td>0</td>\n",
       "      <td>0</td>\n",
       "      <td>0</td>\n",
       "      <td>0</td>\n",
       "    </tr>\n",
       "    <tr>\n",
       "      <th>07/12/2022</th>\n",
       "      <td>0</td>\n",
       "      <td>0</td>\n",
       "      <td>0</td>\n",
       "      <td>0</td>\n",
       "      <td>0</td>\n",
       "      <td>0</td>\n",
       "      <td>0</td>\n",
       "      <td>0</td>\n",
       "      <td>0</td>\n",
       "      <td>0</td>\n",
       "      <td>...</td>\n",
       "      <td>0</td>\n",
       "      <td>0</td>\n",
       "      <td>0</td>\n",
       "      <td>0</td>\n",
       "      <td>0</td>\n",
       "      <td>0</td>\n",
       "      <td>0</td>\n",
       "      <td>0</td>\n",
       "      <td>0</td>\n",
       "      <td>0</td>\n",
       "    </tr>\n",
       "  </tbody>\n",
       "</table>\n",
       "<p>252 rows × 252 columns</p>\n",
       "</div>"
      ],
      "text/plain": [
       "Close       130.80  128.78  127.13  129.78  128.36  130.38  130.22  130.36  \\\n",
       "Date                                                                         \n",
       "07/12/2023       0       0       0       0       0       0       0       0   \n",
       "07/11/2023       0       0       0       0       0       0       0       0   \n",
       "07/10/2023       0       0       0       0       0       0       0       0   \n",
       "07/07/2023       0       0       0       0       0       0       0       0   \n",
       "07/06/2023       0       0       0       0       0       0       0       0   \n",
       "...            ...     ...     ...     ...     ...     ...     ...     ...   \n",
       "07/18/2022       0       0       0       0       0       0       0       0   \n",
       "07/15/2022       0       0       0       0       0       0       0       0   \n",
       "07/14/2022       0       0       0       0       0       0       0       0   \n",
       "07/13/2022       0       0       0       0       0       0       0       0   \n",
       "07/12/2022       0       0       0       0       0       0       0       0   \n",
       "\n",
       "Close       127.90  129.04  ...  121.14  122.42  124.63  122.77  118.21  \\\n",
       "Date                        ...                                           \n",
       "07/12/2023       0       0  ...       0       0       0       0       0   \n",
       "07/11/2023       0       0  ...       0       0       0       0       0   \n",
       "07/10/2023       0       0  ...       0       0       0       0       0   \n",
       "07/07/2023       0       0  ...       0       0       0       0       0   \n",
       "07/06/2023       0       0  ...       0       0       0       0       0   \n",
       "...            ...     ...  ...     ...     ...     ...     ...     ...   \n",
       "07/18/2022       0       0  ...       0       0       0       0       0   \n",
       "07/15/2022       0       0  ...       0       0       0       0       0   \n",
       "07/14/2022       0       0  ...       0       0       0       0       0   \n",
       "07/13/2022       0       0  ...       0       0       0       0       0   \n",
       "07/12/2022       0       0  ...       0       0       0       0       0   \n",
       "\n",
       "Close       113.76  113.55  110.63  110.40  109.22  \n",
       "Date                                                \n",
       "07/12/2023       0       0       0       0       0  \n",
       "07/11/2023       0       0       0       0       0  \n",
       "07/10/2023       0       0       0       0       0  \n",
       "07/07/2023       0       0       0       0       0  \n",
       "07/06/2023       0       0       0       0       0  \n",
       "...            ...     ...     ...     ...     ...  \n",
       "07/18/2022       0       0       0       0       0  \n",
       "07/15/2022       0       0       0       0       0  \n",
       "07/14/2022       0       0       0       0       0  \n",
       "07/13/2022       0       0       0       0       0  \n",
       "07/12/2022       0       0       0       0       0  \n",
       "\n",
       "[252 rows x 252 columns]"
      ]
     },
     "execution_count": 57,
     "metadata": {},
     "output_type": "execute_result"
    }
   ],
   "source": [
    "positionTable = pd.DataFrame(0, index=x_day, columns=x_cl)\n",
    "\n",
    "\n",
    "positionTable"
   ]
  },
  {
   "cell_type": "code",
   "execution_count": 58,
   "metadata": {},
   "outputs": [
    {
     "data": {
      "text/plain": [
       "pandas.core.series.Series"
      ]
     },
     "execution_count": 58,
     "metadata": {},
     "output_type": "execute_result"
    }
   ],
   "source": [
    "ma = x_cl.shift(1).rolling(lookback).mean()\n",
    "type(ma)"
   ]
  },
  {
   "cell_type": "code",
   "execution_count": 81,
   "metadata": {},
   "outputs": [
    {
     "ename": "ValueError",
     "evalue": "The truth value of a Series is ambiguous. Use a.empty, a.bool(), a.item(), a.any() or a.all().",
     "output_type": "error",
     "traceback": [
      "\u001b[1;31m---------------------------------------------------------------------------\u001b[0m",
      "\u001b[1;31mValueError\u001b[0m                                Traceback (most recent call last)",
      "Cell \u001b[1;32mIn[81], line 2\u001b[0m\n\u001b[0;32m      1\u001b[0m \u001b[39mfor\u001b[39;00m t \u001b[39min\u001b[39;00m \u001b[39mrange\u001b[39m(\u001b[39m1\u001b[39m, \u001b[39mlen\u001b[39m(x_day)):\n\u001b[1;32m----> 2\u001b[0m     \u001b[39mif\u001b[39;00m returngap\u001b[39m.\u001b[39mnotna():\n\u001b[0;32m      3\u001b[0m         hasData \u001b[39m=\u001b[39m (returngap\u001b[39m.\u001b[39miloc[t] \u001b[39m&\u001b[39m (x_op\u001b[39m.\u001b[39miloc[t] \u001b[39m<\u001b[39m buyprice\u001b[39m.\u001b[39miloc[t]) \u001b[39m&\u001b[39m (x_op\u001b[39m.\u001b[39miloc[t] \u001b[39m>\u001b[39m ma\u001b[39m.\u001b[39miloc[t]))\n\u001b[0;32m      4\u001b[0m     \u001b[39melse\u001b[39;00m:\n",
      "File \u001b[1;32m~\\AppData\\Roaming\\Python\\Python38\\site-packages\\pandas\\core\\generic.py:1466\u001b[0m, in \u001b[0;36mNDFrame.__nonzero__\u001b[1;34m(self)\u001b[0m\n\u001b[0;32m   1464\u001b[0m \u001b[39m@final\u001b[39m\n\u001b[0;32m   1465\u001b[0m \u001b[39mdef\u001b[39;00m \u001b[39m__nonzero__\u001b[39m(\u001b[39mself\u001b[39m) \u001b[39m-\u001b[39m\u001b[39m>\u001b[39m NoReturn:\n\u001b[1;32m-> 1466\u001b[0m     \u001b[39mraise\u001b[39;00m \u001b[39mValueError\u001b[39;00m(\n\u001b[0;32m   1467\u001b[0m         \u001b[39mf\u001b[39m\u001b[39m\"\u001b[39m\u001b[39mThe truth value of a \u001b[39m\u001b[39m{\u001b[39;00m\u001b[39mtype\u001b[39m(\u001b[39mself\u001b[39m)\u001b[39m.\u001b[39m\u001b[39m__name__\u001b[39m\u001b[39m}\u001b[39;00m\u001b[39m is ambiguous. \u001b[39m\u001b[39m\"\u001b[39m\n\u001b[0;32m   1468\u001b[0m         \u001b[39m\"\u001b[39m\u001b[39mUse a.empty, a.bool(), a.item(), a.any() or a.all().\u001b[39m\u001b[39m\"\u001b[39m\n\u001b[0;32m   1469\u001b[0m     )\n",
      "\u001b[1;31mValueError\u001b[0m: The truth value of a Series is ambiguous. Use a.empty, a.bool(), a.item(), a.any() or a.all()."
     ]
    },
    {
     "ename": "",
     "evalue": "",
     "output_type": "error",
     "traceback": [
      "\u001b[1;31mThe Kernel crashed while executing code in the the current cell or a previous cell. Please review the code in the cell(s) to identify a possible cause of the failure. Click <a href='https://aka.ms/vscodeJupyterKernelCrash'>here</a> for more info. View Jupyter <a href='command:jupyter.viewOutput'>log</a> for further details."
     ]
    }
   ],
   "source": [
    "for t in range(1, len(x_day)):\n",
    "    if returngap.notna():\n",
    "        hasData = (returngap.iloc[t] & (x_op.iloc[t] < buyprice.iloc[t]) & (x_op.iloc[t] > ma.iloc[t]))\n",
    "    else:\n",
    "        pass\n",
    "    sorted_stocks = returngap.iloc[t, hasData].sort_values(ascending=True)\n",
    "    selected_stocks = sorted_stocks.index[:min(topN, len(sorted_stocks))]\n",
    "    positionTable.loc[t, selected_stocks] = 1"
   ]
  }
 ],
 "metadata": {
  "kernelspec": {
   "display_name": "base",
   "language": "python",
   "name": "python3"
  },
  "language_info": {
   "codemirror_mode": {
    "name": "ipython",
    "version": 3
   },
   "file_extension": ".py",
   "mimetype": "text/x-python",
   "name": "python",
   "nbconvert_exporter": "python",
   "pygments_lexer": "ipython3",
   "version": "3.8.13"
  },
  "orig_nbformat": 4
 },
 "nbformat": 4,
 "nbformat_minor": 2
}
