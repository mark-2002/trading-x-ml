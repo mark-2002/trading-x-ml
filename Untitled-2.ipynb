{
 "cells": [
  {
   "cell_type": "code",
   "execution_count": 1,
   "metadata": {},
   "outputs": [
    {
     "name": "stdout",
     "output_type": "stream",
     "text": [
      "Collecting fxcmpyNote: you may need to restart the kernel to use updated packages.\n",
      "\n",
      "  Downloading fxcmpy-1.3.3-py3-none-any.whl (28 kB)\n",
      "Collecting configparser\n",
      "  Downloading configparser-6.0.0-py3-none-any.whl (19 kB)\n",
      "Requirement already satisfied: websocket-client in d:\\programming\\anaconda\\lib\\site-packages (from fxcmpy) (0.58.0)\n",
      "Collecting python-socketio==5.0.4\n",
      "  Downloading python_socketio-5.0.4-py2.py3-none-any.whl (52 kB)\n",
      "Requirement already satisfied: pandas in c:\\users\\hp\\appdata\\roaming\\python\\python38\\site-packages (from fxcmpy) (2.0.3)\n",
      "Requirement already satisfied: requests[socks] in c:\\users\\hp\\appdata\\roaming\\python\\python38\\site-packages (from fxcmpy) (2.31.0)\n",
      "Collecting python-engineio==4.3.1\n",
      "  Downloading python_engineio-4.3.1-py3-none-any.whl (52 kB)\n",
      "Collecting bidict>=0.21.0\n",
      "  Downloading bidict-0.22.1-py3-none-any.whl (35 kB)\n",
      "Requirement already satisfied: pytz>=2020.1 in d:\\programming\\anaconda\\lib\\site-packages (from pandas->fxcmpy) (2022.7)\n",
      "Requirement already satisfied: python-dateutil>=2.8.2 in d:\\programming\\anaconda\\lib\\site-packages (from pandas->fxcmpy) (2.8.2)\n",
      "Requirement already satisfied: tzdata>=2022.1 in c:\\users\\hp\\appdata\\roaming\\python\\python38\\site-packages (from pandas->fxcmpy) (2023.3)\n",
      "Requirement already satisfied: numpy>=1.20.3 in d:\\programming\\anaconda\\lib\\site-packages (from pandas->fxcmpy) (1.24.4)\n",
      "Requirement already satisfied: six>=1.5 in c:\\users\\hp\\appdata\\roaming\\python\\python38\\site-packages (from python-dateutil>=2.8.2->pandas->fxcmpy) (1.15.0)\n",
      "Requirement already satisfied: urllib3<3,>=1.21.1 in c:\\users\\hp\\appdata\\roaming\\python\\python38\\site-packages (from requests[socks]->fxcmpy) (1.26.16)\n",
      "Requirement already satisfied: charset-normalizer<4,>=2 in c:\\users\\hp\\appdata\\roaming\\python\\python38\\site-packages (from requests[socks]->fxcmpy) (3.2.0)\n",
      "Requirement already satisfied: certifi>=2017.4.17 in d:\\programming\\anaconda\\lib\\site-packages (from requests[socks]->fxcmpy) (2023.5.7)\n",
      "Requirement already satisfied: idna<4,>=2.5 in c:\\users\\hp\\appdata\\roaming\\python\\python38\\site-packages (from requests[socks]->fxcmpy) (3.4)\n",
      "Requirement already satisfied: PySocks!=1.5.7,>=1.5.6 in d:\\programming\\anaconda\\lib\\site-packages (from requests[socks]->fxcmpy) (1.7.1)\n",
      "Installing collected packages: python-engineio, bidict, python-socketio, configparser, fxcmpy\n",
      "Successfully installed bidict-0.22.1 configparser-6.0.0 fxcmpy-1.3.3 python-engineio-4.3.1 python-socketio-5.0.4\n"
     ]
    },
    {
     "name": "stderr",
     "output_type": "stream",
     "text": [
      "WARNING: Ignoring invalid distribution -son5 (d:\\programming\\anaconda\\lib\\site-packages)\n",
      "WARNING: Ignoring invalid distribution -ip (d:\\programming\\anaconda\\lib\\site-packages)\n",
      "WARNING: Ignoring invalid distribution - (d:\\programming\\anaconda\\lib\\site-packages)\n",
      "WARNING: Ignoring invalid distribution -atplotlib (d:\\programming\\anaconda\\lib\\site-packages)\n",
      "WARNING: Ignoring invalid distribution -son5 (d:\\programming\\anaconda\\lib\\site-packages)\n",
      "WARNING: Ignoring invalid distribution -ip (d:\\programming\\anaconda\\lib\\site-packages)\n",
      "WARNING: Ignoring invalid distribution - (d:\\programming\\anaconda\\lib\\site-packages)\n",
      "WARNING: Ignoring invalid distribution -atplotlib (d:\\programming\\anaconda\\lib\\site-packages)\n",
      "WARNING: Ignoring invalid distribution -son5 (d:\\programming\\anaconda\\lib\\site-packages)\n",
      "WARNING: Ignoring invalid distribution -ip (d:\\programming\\anaconda\\lib\\site-packages)\n",
      "WARNING: Ignoring invalid distribution - (d:\\programming\\anaconda\\lib\\site-packages)\n",
      "WARNING: Ignoring invalid distribution -atplotlib (d:\\programming\\anaconda\\lib\\site-packages)\n",
      "WARNING: Ignoring invalid distribution -son5 (d:\\programming\\anaconda\\lib\\site-packages)\n",
      "WARNING: Ignoring invalid distribution -ip (d:\\programming\\anaconda\\lib\\site-packages)\n",
      "WARNING: Ignoring invalid distribution - (d:\\programming\\anaconda\\lib\\site-packages)\n",
      "WARNING: Ignoring invalid distribution -atplotlib (d:\\programming\\anaconda\\lib\\site-packages)\n",
      "WARNING: Ignoring invalid distribution -son5 (d:\\programming\\anaconda\\lib\\site-packages)\n",
      "WARNING: Ignoring invalid distribution -ip (d:\\programming\\anaconda\\lib\\site-packages)\n",
      "WARNING: Ignoring invalid distribution - (d:\\programming\\anaconda\\lib\\site-packages)\n",
      "WARNING: Ignoring invalid distribution -atplotlib (d:\\programming\\anaconda\\lib\\site-packages)\n",
      "WARNING: Ignoring invalid distribution -son5 (d:\\programming\\anaconda\\lib\\site-packages)\n",
      "WARNING: Ignoring invalid distribution -ip (d:\\programming\\anaconda\\lib\\site-packages)\n",
      "WARNING: Ignoring invalid distribution - (d:\\programming\\anaconda\\lib\\site-packages)\n",
      "WARNING: Ignoring invalid distribution -atplotlib (d:\\programming\\anaconda\\lib\\site-packages)\n",
      "WARNING: Ignoring invalid distribution -son5 (d:\\programming\\anaconda\\lib\\site-packages)\n",
      "WARNING: Ignoring invalid distribution -ip (d:\\programming\\anaconda\\lib\\site-packages)\n",
      "WARNING: Ignoring invalid distribution - (d:\\programming\\anaconda\\lib\\site-packages)\n",
      "WARNING: Ignoring invalid distribution -atplotlib (d:\\programming\\anaconda\\lib\\site-packages)\n",
      "WARNING: Ignoring invalid distribution -son5 (d:\\programming\\anaconda\\lib\\site-packages)\n",
      "WARNING: Ignoring invalid distribution -ip (d:\\programming\\anaconda\\lib\\site-packages)\n",
      "WARNING: Ignoring invalid distribution - (d:\\programming\\anaconda\\lib\\site-packages)\n",
      "WARNING: Ignoring invalid distribution -atplotlib (d:\\programming\\anaconda\\lib\\site-packages)\n",
      "WARNING: Ignoring invalid distribution -son5 (d:\\programming\\anaconda\\lib\\site-packages)\n",
      "WARNING: Ignoring invalid distribution -ip (d:\\programming\\anaconda\\lib\\site-packages)\n",
      "WARNING: Ignoring invalid distribution - (d:\\programming\\anaconda\\lib\\site-packages)\n",
      "WARNING: Ignoring invalid distribution -atplotlib (d:\\programming\\anaconda\\lib\\site-packages)\n",
      "WARNING: Ignoring invalid distribution -son5 (d:\\programming\\anaconda\\lib\\site-packages)\n",
      "WARNING: Ignoring invalid distribution -ip (d:\\programming\\anaconda\\lib\\site-packages)\n",
      "WARNING: Ignoring invalid distribution - (d:\\programming\\anaconda\\lib\\site-packages)\n",
      "WARNING: Ignoring invalid distribution -atplotlib (d:\\programming\\anaconda\\lib\\site-packages)\n",
      "WARNING: Ignoring invalid distribution -son5 (d:\\programming\\anaconda\\lib\\site-packages)\n",
      "WARNING: Ignoring invalid distribution -ip (d:\\programming\\anaconda\\lib\\site-packages)\n",
      "WARNING: Ignoring invalid distribution - (d:\\programming\\anaconda\\lib\\site-packages)\n",
      "WARNING: Ignoring invalid distribution -atplotlib (d:\\programming\\anaconda\\lib\\site-packages)\n"
     ]
    }
   ],
   "source": [
    "%pip install fxcmpy"
   ]
  },
  {
   "cell_type": "code",
   "execution_count": 3,
   "metadata": {},
   "outputs": [
    {
     "name": "stdout",
     "output_type": "stream",
     "text": [
      "Requirement already satisfied: fxcmpy in d:\\programming\\anaconda\\lib\\site-packages (1.3.3)\n",
      "Requirement already satisfied: python-socketio==5.0.4 in d:\\programming\\anaconda\\lib\\site-packages (from fxcmpy) (5.0.4)\n",
      "Requirement already satisfied: requests[socks] in c:\\users\\hp\\appdata\\roaming\\python\\python38\\site-packages (from fxcmpy) (2.31.0)\n",
      "Requirement already satisfied: pandas in c:\\users\\hp\\appdata\\roaming\\python\\python38\\site-packages (from fxcmpy) (2.0.3)\n",
      "Requirement already satisfied: websocket-client in d:\\programming\\anaconda\\lib\\site-packages (from fxcmpy) (0.58.0)\n",
      "Requirement already satisfied: configparser in d:\\programming\\anaconda\\lib\\site-packages (from fxcmpy) (6.0.0)\n",
      "Requirement already satisfied: python-engineio==4.3.1 in d:\\programming\\anaconda\\lib\\site-packages (from fxcmpy) (4.3.1)\n",
      "Requirement already satisfied: bidict>=0.21.0 in d:\\programming\\anaconda\\lib\\site-packages (from python-socketio==5.0.4->fxcmpy) (0.22.1)\n",
      "Requirement already satisfied: numpy>=1.20.3 in d:\\programming\\anaconda\\lib\\site-packages (from pandas->fxcmpy) (1.24.4)\n",
      "Requirement already satisfied: tzdata>=2022.1 in c:\\users\\hp\\appdata\\roaming\\python\\python38\\site-packages (from pandas->fxcmpy) (2023.3)\n",
      "Requirement already satisfied: pytz>=2020.1 in d:\\programming\\anaconda\\lib\\site-packages (from pandas->fxcmpy) (2022.7)\n",
      "Requirement already satisfied: python-dateutil>=2.8.2 in d:\\programming\\anaconda\\lib\\site-packages (from pandas->fxcmpy) (2.8.2)\n",
      "Requirement already satisfied: six>=1.5 in c:\\users\\hp\\appdata\\roaming\\python\\python38\\site-packages (from python-dateutil>=2.8.2->pandas->fxcmpy) (1.15.0)\n",
      "Requirement already satisfied: urllib3<3,>=1.21.1 in c:\\users\\hp\\appdata\\roaming\\python\\python38\\site-packages (from requests[socks]->fxcmpy) (1.26.16)\n",
      "Requirement already satisfied: idna<4,>=2.5 in c:\\users\\hp\\appdata\\roaming\\python\\python38\\site-packages (from requests[socks]->fxcmpy) (3.4)\n",
      "Requirement already satisfied: certifi>=2017.4.17 in d:\\programming\\anaconda\\lib\\site-packages (from requests[socks]->fxcmpy) (2023.5.7)\n",
      "Requirement already satisfied: charset-normalizer<4,>=2 in c:\\users\\hp\\appdata\\roaming\\python\\python38\\site-packages (from requests[socks]->fxcmpy) (3.2.0)\n",
      "Requirement already satisfied: PySocks!=1.5.7,>=1.5.6 in d:\\programming\\anaconda\\lib\\site-packages (from requests[socks]->fxcmpy) (1.7.1)\n",
      "Note: you may need to restart the kernel to use updated packages.\n"
     ]
    },
    {
     "name": "stderr",
     "output_type": "stream",
     "text": [
      "WARNING: Ignoring invalid distribution -son5 (d:\\programming\\anaconda\\lib\\site-packages)\n",
      "WARNING: Ignoring invalid distribution -ip (d:\\programming\\anaconda\\lib\\site-packages)\n",
      "WARNING: Ignoring invalid distribution - (d:\\programming\\anaconda\\lib\\site-packages)\n",
      "WARNING: Ignoring invalid distribution -atplotlib (d:\\programming\\anaconda\\lib\\site-packages)\n",
      "WARNING: Ignoring invalid distribution -son5 (d:\\programming\\anaconda\\lib\\site-packages)\n",
      "WARNING: Ignoring invalid distribution -ip (d:\\programming\\anaconda\\lib\\site-packages)\n",
      "WARNING: Ignoring invalid distribution - (d:\\programming\\anaconda\\lib\\site-packages)\n",
      "WARNING: Ignoring invalid distribution -atplotlib (d:\\programming\\anaconda\\lib\\site-packages)\n",
      "WARNING: Ignoring invalid distribution -son5 (d:\\programming\\anaconda\\lib\\site-packages)\n",
      "WARNING: Ignoring invalid distribution -ip (d:\\programming\\anaconda\\lib\\site-packages)\n",
      "WARNING: Ignoring invalid distribution - (d:\\programming\\anaconda\\lib\\site-packages)\n",
      "WARNING: Ignoring invalid distribution -atplotlib (d:\\programming\\anaconda\\lib\\site-packages)\n",
      "WARNING: Ignoring invalid distribution -son5 (d:\\programming\\anaconda\\lib\\site-packages)\n",
      "WARNING: Ignoring invalid distribution -ip (d:\\programming\\anaconda\\lib\\site-packages)\n",
      "WARNING: Ignoring invalid distribution - (d:\\programming\\anaconda\\lib\\site-packages)\n",
      "WARNING: Ignoring invalid distribution -atplotlib (d:\\programming\\anaconda\\lib\\site-packages)\n",
      "WARNING: Ignoring invalid distribution -son5 (d:\\programming\\anaconda\\lib\\site-packages)\n",
      "WARNING: Ignoring invalid distribution -ip (d:\\programming\\anaconda\\lib\\site-packages)\n",
      "WARNING: Ignoring invalid distribution - (d:\\programming\\anaconda\\lib\\site-packages)\n",
      "WARNING: Ignoring invalid distribution -atplotlib (d:\\programming\\anaconda\\lib\\site-packages)\n",
      "WARNING: Ignoring invalid distribution -son5 (d:\\programming\\anaconda\\lib\\site-packages)\n",
      "WARNING: Ignoring invalid distribution -ip (d:\\programming\\anaconda\\lib\\site-packages)\n",
      "WARNING: Ignoring invalid distribution - (d:\\programming\\anaconda\\lib\\site-packages)\n",
      "WARNING: Ignoring invalid distribution -atplotlib (d:\\programming\\anaconda\\lib\\site-packages)\n"
     ]
    }
   ],
   "source": [
    "%pip install fxcmpy --upgrade"
   ]
  },
  {
   "cell_type": "code",
   "execution_count": 6,
   "metadata": {},
   "outputs": [],
   "source": [
    "import fxcmpy\n",
    "import pandas as pd\n",
    "import numpy as np\n",
    "import matplotlib.pyplot as plt\n",
    "import datetime as dt"
   ]
  },
  {
   "cell_type": "code",
   "execution_count": 7,
   "metadata": {},
   "outputs": [
    {
     "name": "stdout",
     "output_type": "stream",
     "text": [
      "('AUDCAD', 'AUDCHF', 'AUDJPY', 'AUDNZD', 'CADCHF', 'EURAUD', 'EURCHF', 'EURGBP', 'EURJPY', 'EURUSD', 'GBPCHF', 'GBPJPY', 'GBPNZD', 'GBPUSD', 'GBPCHF', 'GBPJPY', 'GBPNZD', 'NZDCAD', 'NZDCHF', 'NZDJPY', 'NZDUSD', 'USDCAD', 'USDCHF', 'USDJPY')\n"
     ]
    }
   ],
   "source": [
    "from fxcmpy import fxcmpy_tick_data_reader as tdr\n",
    "\n",
    "print(tdr.get_available_symbols())"
   ]
  },
  {
   "cell_type": "code",
   "execution_count": 8,
   "metadata": {},
   "outputs": [],
   "source": [
    "start = dt.datetime(2018,6,25)\n",
    "stop = dt.datetime(2018,6,30)"
   ]
  },
  {
   "cell_type": "code",
   "execution_count": 9,
   "metadata": {},
   "outputs": [
    {
     "ename": "HTTPError",
     "evalue": "HTTP Error 403: Forbidden",
     "output_type": "error",
     "traceback": [
      "\u001b[1;31m---------------------------------------------------------------------------\u001b[0m",
      "\u001b[1;31mHTTPError\u001b[0m                                 Traceback (most recent call last)",
      "Cell \u001b[1;32mIn[9], line 1\u001b[0m\n\u001b[1;32m----> 1\u001b[0m td \u001b[39m=\u001b[39m tdr(\u001b[39m'\u001b[39;49m\u001b[39mEURUSD\u001b[39;49m\u001b[39m'\u001b[39;49m,start,stop)\n",
      "File \u001b[1;32md:\\PROGRAMMING\\anaconda\\lib\\site-packages\\fxcmpy\\fxcmpy_data_reader.py:96\u001b[0m, in \u001b[0;36mfxcmpy_tick_data_reader.__init__\u001b[1;34m(self, symbol, start, end, verbosity)\u001b[0m\n\u001b[0;32m     94\u001b[0m \u001b[39mself\u001b[39m\u001b[39m.\u001b[39mcodec \u001b[39m=\u001b[39m \u001b[39m'\u001b[39m\u001b[39mutf-16\u001b[39m\u001b[39m'\u001b[39m\n\u001b[0;32m     95\u001b[0m \u001b[39mif\u001b[39;00m \u001b[39mnot\u001b[39;00m \u001b[39misinstance\u001b[39m(\u001b[39mself\u001b[39m, fxcmpy_candles_data_reader):\n\u001b[1;32m---> 96\u001b[0m     \u001b[39mself\u001b[39;49m\u001b[39m.\u001b[39;49m__fetch_data__()\n",
      "File \u001b[1;32md:\\PROGRAMMING\\anaconda\\lib\\site-packages\\fxcmpy\\fxcmpy_data_reader.py:174\u001b[0m, in \u001b[0;36mfxcmpy_tick_data_reader.__fetch_data__\u001b[1;34m(self)\u001b[0m\n\u001b[0;32m    172\u001b[0m year, week, noop \u001b[39m=\u001b[39m running_date\u001b[39m.\u001b[39misocalendar()\n\u001b[0;32m    173\u001b[0m url \u001b[39m=\u001b[39m \u001b[39mself\u001b[39m\u001b[39m.\u001b[39murl \u001b[39m%\u001b[39m (\u001b[39mself\u001b[39m\u001b[39m.\u001b[39msymbol, year, week)\n\u001b[1;32m--> 174\u001b[0m data \u001b[39m=\u001b[39m \u001b[39mself\u001b[39;49m\u001b[39m.\u001b[39;49m__fetch_dataset__(url)\n\u001b[0;32m    175\u001b[0m \u001b[39mif\u001b[39;00m \u001b[39mlen\u001b[39m(\u001b[39mself\u001b[39m\u001b[39m.\u001b[39mdata) \u001b[39m==\u001b[39m \u001b[39m0\u001b[39m:\n\u001b[0;32m    176\u001b[0m     \u001b[39mself\u001b[39m\u001b[39m.\u001b[39mdata \u001b[39m=\u001b[39m data\n",
      "File \u001b[1;32md:\\PROGRAMMING\\anaconda\\lib\\site-packages\\fxcmpy\\fxcmpy_data_reader.py:185\u001b[0m, in \u001b[0;36mfxcmpy_tick_data_reader.__fetch_dataset__\u001b[1;34m(self, url)\u001b[0m\n\u001b[0;32m    183\u001b[0m \u001b[39mif\u001b[39;00m \u001b[39mself\u001b[39m\u001b[39m.\u001b[39mverbosity:\n\u001b[0;32m    184\u001b[0m     \u001b[39mprint\u001b[39m(\u001b[39m'\u001b[39m\u001b[39mFetching data from: \u001b[39m\u001b[39m%s\u001b[39;00m\u001b[39m'\u001b[39m \u001b[39m%\u001b[39m url)\n\u001b[1;32m--> 185\u001b[0m requests \u001b[39m=\u001b[39m urllib\u001b[39m.\u001b[39;49mrequest\u001b[39m.\u001b[39;49murlopen(url)\n\u001b[0;32m    186\u001b[0m buf \u001b[39m=\u001b[39m BytesIO(requests\u001b[39m.\u001b[39mread())\n\u001b[0;32m    187\u001b[0m f \u001b[39m=\u001b[39m gzip\u001b[39m.\u001b[39mGzipFile(fileobj\u001b[39m=\u001b[39mbuf)\n",
      "File \u001b[1;32md:\\PROGRAMMING\\anaconda\\lib\\urllib\\request.py:222\u001b[0m, in \u001b[0;36murlopen\u001b[1;34m(url, data, timeout, cafile, capath, cadefault, context)\u001b[0m\n\u001b[0;32m    220\u001b[0m \u001b[39melse\u001b[39;00m:\n\u001b[0;32m    221\u001b[0m     opener \u001b[39m=\u001b[39m _opener\n\u001b[1;32m--> 222\u001b[0m \u001b[39mreturn\u001b[39;00m opener\u001b[39m.\u001b[39;49mopen(url, data, timeout)\n",
      "File \u001b[1;32md:\\PROGRAMMING\\anaconda\\lib\\urllib\\request.py:531\u001b[0m, in \u001b[0;36mOpenerDirector.open\u001b[1;34m(self, fullurl, data, timeout)\u001b[0m\n\u001b[0;32m    529\u001b[0m \u001b[39mfor\u001b[39;00m processor \u001b[39min\u001b[39;00m \u001b[39mself\u001b[39m\u001b[39m.\u001b[39mprocess_response\u001b[39m.\u001b[39mget(protocol, []):\n\u001b[0;32m    530\u001b[0m     meth \u001b[39m=\u001b[39m \u001b[39mgetattr\u001b[39m(processor, meth_name)\n\u001b[1;32m--> 531\u001b[0m     response \u001b[39m=\u001b[39m meth(req, response)\n\u001b[0;32m    533\u001b[0m \u001b[39mreturn\u001b[39;00m response\n",
      "File \u001b[1;32md:\\PROGRAMMING\\anaconda\\lib\\urllib\\request.py:640\u001b[0m, in \u001b[0;36mHTTPErrorProcessor.http_response\u001b[1;34m(self, request, response)\u001b[0m\n\u001b[0;32m    637\u001b[0m \u001b[39m# According to RFC 2616, \"2xx\" code indicates that the client's\u001b[39;00m\n\u001b[0;32m    638\u001b[0m \u001b[39m# request was successfully received, understood, and accepted.\u001b[39;00m\n\u001b[0;32m    639\u001b[0m \u001b[39mif\u001b[39;00m \u001b[39mnot\u001b[39;00m (\u001b[39m200\u001b[39m \u001b[39m<\u001b[39m\u001b[39m=\u001b[39m code \u001b[39m<\u001b[39m \u001b[39m300\u001b[39m):\n\u001b[1;32m--> 640\u001b[0m     response \u001b[39m=\u001b[39m \u001b[39mself\u001b[39;49m\u001b[39m.\u001b[39;49mparent\u001b[39m.\u001b[39;49merror(\n\u001b[0;32m    641\u001b[0m         \u001b[39m'\u001b[39;49m\u001b[39mhttp\u001b[39;49m\u001b[39m'\u001b[39;49m, request, response, code, msg, hdrs)\n\u001b[0;32m    643\u001b[0m \u001b[39mreturn\u001b[39;00m response\n",
      "File \u001b[1;32md:\\PROGRAMMING\\anaconda\\lib\\urllib\\request.py:569\u001b[0m, in \u001b[0;36mOpenerDirector.error\u001b[1;34m(self, proto, *args)\u001b[0m\n\u001b[0;32m    567\u001b[0m \u001b[39mif\u001b[39;00m http_err:\n\u001b[0;32m    568\u001b[0m     args \u001b[39m=\u001b[39m (\u001b[39mdict\u001b[39m, \u001b[39m'\u001b[39m\u001b[39mdefault\u001b[39m\u001b[39m'\u001b[39m, \u001b[39m'\u001b[39m\u001b[39mhttp_error_default\u001b[39m\u001b[39m'\u001b[39m) \u001b[39m+\u001b[39m orig_args\n\u001b[1;32m--> 569\u001b[0m     \u001b[39mreturn\u001b[39;00m \u001b[39mself\u001b[39;49m\u001b[39m.\u001b[39;49m_call_chain(\u001b[39m*\u001b[39;49margs)\n",
      "File \u001b[1;32md:\\PROGRAMMING\\anaconda\\lib\\urllib\\request.py:502\u001b[0m, in \u001b[0;36mOpenerDirector._call_chain\u001b[1;34m(self, chain, kind, meth_name, *args)\u001b[0m\n\u001b[0;32m    500\u001b[0m \u001b[39mfor\u001b[39;00m handler \u001b[39min\u001b[39;00m handlers:\n\u001b[0;32m    501\u001b[0m     func \u001b[39m=\u001b[39m \u001b[39mgetattr\u001b[39m(handler, meth_name)\n\u001b[1;32m--> 502\u001b[0m     result \u001b[39m=\u001b[39m func(\u001b[39m*\u001b[39;49margs)\n\u001b[0;32m    503\u001b[0m     \u001b[39mif\u001b[39;00m result \u001b[39mis\u001b[39;00m \u001b[39mnot\u001b[39;00m \u001b[39mNone\u001b[39;00m:\n\u001b[0;32m    504\u001b[0m         \u001b[39mreturn\u001b[39;00m result\n",
      "File \u001b[1;32md:\\PROGRAMMING\\anaconda\\lib\\urllib\\request.py:649\u001b[0m, in \u001b[0;36mHTTPDefaultErrorHandler.http_error_default\u001b[1;34m(self, req, fp, code, msg, hdrs)\u001b[0m\n\u001b[0;32m    648\u001b[0m \u001b[39mdef\u001b[39;00m \u001b[39mhttp_error_default\u001b[39m(\u001b[39mself\u001b[39m, req, fp, code, msg, hdrs):\n\u001b[1;32m--> 649\u001b[0m     \u001b[39mraise\u001b[39;00m HTTPError(req\u001b[39m.\u001b[39mfull_url, code, msg, hdrs, fp)\n",
      "\u001b[1;31mHTTPError\u001b[0m: HTTP Error 403: Forbidden"
     ]
    }
   ],
   "source": [
    "td = tdr('EURUSD',start,stop)\n",
    "td"
   ]
  }
 ],
 "metadata": {
  "kernelspec": {
   "display_name": "base",
   "language": "python",
   "name": "python3"
  },
  "language_info": {
   "codemirror_mode": {
    "name": "ipython",
    "version": 3
   },
   "file_extension": ".py",
   "mimetype": "text/x-python",
   "name": "python",
   "nbconvert_exporter": "python",
   "pygments_lexer": "ipython3",
   "version": "3.8.13"
  },
  "orig_nbformat": 4
 },
 "nbformat": 4,
 "nbformat_minor": 2
}
