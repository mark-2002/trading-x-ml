{
 "cells": [
  {
   "cell_type": "code",
   "execution_count": null,
   "metadata": {},
   "outputs": [],
   "source": []
  },
  {
   "cell_type": "code",
   "execution_count": 13,
   "metadata": {},
   "outputs": [],
   "source": [
    "#European Option\n",
    "import math\n",
    "import numpy as np\n",
    "import numpy.random as npr\n",
    "from pylab import plt,mpl\n"
   ]
  },
  {
   "cell_type": "code",
   "execution_count": 14,
   "metadata": {},
   "outputs": [],
   "source": [
    "def gen_sn(M,I,anti_paths=True,mo_match = True):\n",
    "    '''Function togenerate random number for simulation.\n",
    "    \n",
    "    Parameters\n",
    "    M: number of intervals for discretization\n",
    "    I: int number of paths to be simulated\n",
    "    anti-paths: boolean\n",
    "        use of antitethic variates\n",
    "    mo_math:boolean\n",
    "        use of moment matching\n",
    "        '''\n",
    "    \n",
    "    if anti_paths is True:\n",
    "        sn = npr.standard_normal((M+1,int(I/2)))\n",
    "        sn = np.concatenate((sn,-sn),axis=1)\n",
    "    else:\n",
    "        sn = npr.standard_normal(( M+1 , I))\n",
    "    if mo_match is True:\n",
    "        sn = (sn-sn.mean())/sn.std()\n",
    "    return sn"
   ]
  },
  {
   "cell_type": "code",
   "execution_count": 15,
   "metadata": {},
   "outputs": [],
   "source": [
    "#European Option\n",
    "S0= 100\n",
    "r = 0.05\n",
    "sigma = 0.25\n",
    "T =1.0\n",
    "I = 50000"
   ]
  },
  {
   "cell_type": "code",
   "execution_count": 16,
   "metadata": {},
   "outputs": [],
   "source": [
    "def gbm_mcs_stat(K):\n",
    "    '''Valuation o european call option using BlackScholesMerton model by montecarlo simulaion\n",
    "    k:Strike Pirceof the option\n",
    "    C0: pRESENT VALUE OF THE OPTIOn'''\n",
    "    sn = gen_sn(1,I)\n",
    "    #simulate index level at maturity\n",
    "    ST = S0 * np.exp((r - 0.5*sigma**2)*T+ sigma*math.sqrt(T)*sn[1])\n",
    "    #calculate the pay off maturity \n",
    "    hT = np.maximum(ST-K,0)\n",
    "    #calculate MCS estimator\n",
    "    C0 = math.exp(-r*T)*np.mean(hT)\n",
    "    return ST,C0,hT"
   ]
  },
  {
   "cell_type": "code",
   "execution_count": 17,
   "metadata": {},
   "outputs": [
    {
     "data": {
      "text/plain": [
       "(array([ 93.14965592, 114.13197254, 124.26735017, ...,  98.07277556,\n",
       "        134.27963232, 100.77674562]),\n",
       " 8.076587345217755,\n",
       " array([ 0.        ,  4.13197254, 14.26735017, ...,  0.        ,\n",
       "        24.27963232,  0.        ]))"
      ]
     },
     "execution_count": 17,
     "metadata": {},
     "output_type": "execute_result"
    }
   ],
   "source": [
    "gbm_mcs_stat(K=110)"
   ]
  },
  {
   "cell_type": "code",
   "execution_count": 18,
   "metadata": {},
   "outputs": [],
   "source": [
    "#A more dynamic solutions for european call and  put option\n",
    "M = 50\n",
    "def gbm_mcs_call_put(K,option='call'):\n",
    "    dt=T/M\n",
    "    S= np.zeros((M+1,I))\n",
    "    S[0] = 50\n",
    "    sn = gen_sn(M,I)\n",
    "    for t in range(1,M+1):\n",
    "        S[t] = S[t-1]*np.exp((r-0.5*sigma**2)*dt + sigma*math.sqrt(dt)*sn[t])\n",
    "        if option =='call':\n",
    "            hT = np.maximum(S[-1]-K,0)\n",
    "        else:\n",
    "            hT= np.maximum(K-S[-1],0)\n",
    "            #discounting Fv rates\n",
    "    CO = math.exp(-r*T)*np.mean(hT)\n",
    "    return S[-1],CO"
   ]
  },
  {
   "cell_type": "code",
   "execution_count": 19,
   "metadata": {},
   "outputs": [
    {
     "data": {
      "text/plain": [
       "(array([59.03103259, 69.6521777 , 51.45538834, ..., 89.9541829 ,\n",
       "        35.35486479, 27.35497241]),\n",
       " 12.700346749574912)"
      ]
     },
     "execution_count": 19,
     "metadata": {},
     "output_type": "execute_result"
    }
   ],
   "source": [
    "gbm_mcs_call_put(K=40,option='call')"
   ]
  },
  {
   "cell_type": "code",
   "execution_count": 20,
   "metadata": {},
   "outputs": [
    {
     "data": {
      "text/plain": [
       "(array([73.11611724, 61.54603828, 54.29833185, ..., 36.81879116,\n",
       "        56.24837162, 49.04441774]),\n",
       " 0.7573473256488356)"
      ]
     },
     "execution_count": 20,
     "metadata": {},
     "output_type": "execute_result"
    }
   ],
   "source": [
    "gbm_mcs_call_put(K=40,option='put')"
   ]
  },
  {
   "cell_type": "code",
   "execution_count": 21,
   "metadata": {},
   "outputs": [],
   "source": [
    "#American Option\n",
    "def gbm_mcs_amer(k,option='call'):\n",
    "    dt = T/M\n",
    "    df = math.exp(-r*dt)\n",
    "    S = np.zeros((M+1,I))\n",
    "    S[0] = S0\n",
    "    \n",
    "    sn = gen_sn(M,I)\n",
    "    for t in range(1,M+1):\n",
    "        S[t] = S[t-1] * np.exp((r-0.5*sigma**2)*dt + sigma*math.sqrt(dt)*sn[t])\n",
    "    if option =='call':\n",
    "        h = np.maximum(S-k,0)\n",
    "    else:\n",
    "        h = np.maximum(K-S,0)\n",
    "    V = np.copy(h)\n",
    "    for t in range (M-1,0,-1):\n",
    "        reg = np.polyfit(S[t],V[t+1]*df,7)\n",
    "        C = np.polyval(reg,S[t])\n",
    "        V[t]=np.where(C>h[t],V[t+1]*df,h[t])\n",
    "    C0 = df*np.mean(V[1])\n",
    "    return C0"
   ]
  },
  {
   "cell_type": "code",
   "execution_count": 22,
   "metadata": {},
   "outputs": [
    {
     "data": {
      "text/plain": [
       "62.00345545403828"
      ]
     },
     "execution_count": 22,
     "metadata": {},
     "output_type": "execute_result"
    }
   ],
   "source": [
    "gbm_mcs_amer(40,option='call')"
   ]
  },
  {
   "cell_type": "code",
   "execution_count": null,
   "metadata": {},
   "outputs": [],
   "source": [
    "euro_res = []\n",
    "amer_res = []\n",
    "\n",
    "k_list = np.arange(80,120,5)\n",
    "\n",
    "for K in k_list:\n",
    "    euro_res.append(gbm_mcs_call_put(K,'call'))\n",
    "    amer_res.append(gbm_mcs_amer(K,'call'))\n",
    "    "
   ]
  }
 ],
 "metadata": {
  "kernelspec": {
   "display_name": "base",
   "language": "python",
   "name": "python3"
  },
  "language_info": {
   "codemirror_mode": {
    "name": "ipython",
    "version": 3
   },
   "file_extension": ".py",
   "mimetype": "text/x-python",
   "name": "python",
   "nbconvert_exporter": "python",
   "pygments_lexer": "ipython3",
   "version": "3.8.13"
  },
  "orig_nbformat": 4
 },
 "nbformat": 4,
 "nbformat_minor": 2
}
