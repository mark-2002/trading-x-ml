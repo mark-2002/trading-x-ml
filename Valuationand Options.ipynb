{
 "cells": [
  {
   "cell_type": "code",
   "execution_count": null,
   "metadata": {},
   "outputs": [],
   "source": []
  },
  {
   "cell_type": "code",
   "execution_count": 1,
   "metadata": {},
   "outputs": [
    {
     "name": "stderr",
     "output_type": "stream",
     "text": [
      "d:\\PROGRAMMING\\anaconda\\lib\\site-packages\\numpy\\_distributor_init.py:30: UserWarning: loaded more than 1 DLL from .libs:\n",
      "d:\\PROGRAMMING\\anaconda\\lib\\site-packages\\numpy\\.libs\\libopenblas.WCDJNK7YVMPZQ2ME2ZZHJJRJ3JIKNDB7.gfortran-win_amd64.dll\n",
      "d:\\PROGRAMMING\\anaconda\\lib\\site-packages\\numpy\\.libs\\libopenblas64__v0.3.21-gcc_10_3_0.dll\n",
      "  warnings.warn(\"loaded more than 1 DLL from .libs:\"\n"
     ]
    }
   ],
   "source": [
    "#European Option\n",
    "import math\n",
    "import numpy as np\n",
    "import numpy.random as npr\n",
    "from pylab import plt,mpl\n"
   ]
  },
  {
   "cell_type": "code",
   "execution_count": 2,
   "metadata": {},
   "outputs": [],
   "source": [
    "def gen_sn(M,I,anti_paths=True,mo_match = True):\n",
    "    '''Function togenerate random number for simulation.\n",
    "    \n",
    "    Parameters\n",
    "    M: number of intervals for discretization\n",
    "    I: int number of paths to be simulated\n",
    "    anti-paths: boolean\n",
    "        use of antitethic variates\n",
    "    mo_math:boolean\n",
    "        use of moment matching\n",
    "        '''\n",
    "    \n",
    "    if anti_paths is True:\n",
    "        sn = npr.standard_normal((M+1,int(I/2)))\n",
    "        sn = np.concatenate((sn,-sn),axis=1)\n",
    "    else:\n",
    "        sn = npr.standard_normal(( M+1 , I))\n",
    "    if mo_match is True:\n",
    "        sn = (sn-sn.mean())/sn.std()\n",
    "    return sn"
   ]
  },
  {
   "cell_type": "code",
   "execution_count": 3,
   "metadata": {},
   "outputs": [],
   "source": [
    "#European Option\n",
    "S0= 100\n",
    "r = 0.05\n",
    "sigma = 0.25\n",
    "T =1.0\n",
    "I = 50000"
   ]
  },
  {
   "cell_type": "code",
   "execution_count": 11,
   "metadata": {},
   "outputs": [],
   "source": [
    "def gbm_mcs_stat(K):\n",
    "    '''Valuation o european call option using BlackScholesMerton model by montecarlo simulaion\n",
    "    k:Strike Pirceof the option\n",
    "    C0: pRESENT VALUE OF THE OPTIOn'''\n",
    "    sn = gen_sn(1,I)\n",
    "    #simulate index level at maturity\n",
    "    ST = S0 * np.exp((r - 0.5*sigma**2)*T+ sigma*math.sqrt(T)*sn[1])\n",
    "    #calculate the pay off maturity \n",
    "    hT = np.maximum(ST-K,0)\n",
    "    #calculate MCS estimator\n",
    "    C0 = math.exp(-r*T)*np.mean(hT)\n",
    "    return ST,C0,hT"
   ]
  },
  {
   "cell_type": "code",
   "execution_count": 12,
   "metadata": {},
   "outputs": [
    {
     "data": {
      "text/plain": [
       "(array([ 88.93554605,  84.08815421,  91.86132199, ...,  85.36063223,\n",
       "         83.6912982 , 133.97065615]),\n",
       " 8.061873025067769,\n",
       " array([ 0.        ,  0.        ,  0.        , ...,  0.        ,\n",
       "         0.        , 23.97065615]))"
      ]
     },
     "execution_count": 12,
     "metadata": {},
     "output_type": "execute_result"
    }
   ],
   "source": [
    "gbm_mcs_stat(K=110)"
   ]
  },
  {
   "cell_type": "code",
   "execution_count": 30,
   "metadata": {},
   "outputs": [],
   "source": [
    "#A more dynamic solutions for european call and  put option\n",
    "M = 50\n",
    "def gbm_mcs_call_put(K,option='call'):\n",
    "    dt=T/M\n",
    "    S= np.zeros((M+1,I))\n",
    "    S[0] = 50\n",
    "    sn = gen_sn(M,I)\n",
    "    for t in range(1,M+1):\n",
    "        S[t] = S[t-1]*np.exp((r-0.5*sigma**2)*dt + sigma*math.sqrt(dt)*sn[t])\n",
    "        if option =='call':\n",
    "            hT = np.maximum(S[-1]-K,0)\n",
    "        else:\n",
    "            hT= np.maximum(K-S[-1],0)\n",
    "            #discounting Fv rates\n",
    "    CO = math.exp(-r*T)*np.mean(hT)\n",
    "    return S[-1],CO"
   ]
  },
  {
   "cell_type": "code",
   "execution_count": 31,
   "metadata": {},
   "outputs": [
    {
     "data": {
      "text/plain": [
       "(array([77.50646401, 64.87290553, 32.21561758, ..., 71.87530178,\n",
       "        48.01159088, 66.39529052]),\n",
       " 12.733659502550518)"
      ]
     },
     "execution_count": 31,
     "metadata": {},
     "output_type": "execute_result"
    }
   ],
   "source": [
    "gbm_mcs_call_put(K=40,option='call')"
   ]
  },
  {
   "cell_type": "code",
   "execution_count": 32,
   "metadata": {},
   "outputs": [
    {
     "data": {
      "text/plain": [
       "(array([60.10196343, 38.16755684, 46.00476058, ..., 64.49054069,\n",
       "        56.0760832 , 60.22676625]),\n",
       " 0.7600613747101098)"
      ]
     },
     "execution_count": 32,
     "metadata": {},
     "output_type": "execute_result"
    }
   ],
   "source": [
    "gbm_mcs_call_put(K=40,option='put')"
   ]
  }
 ],
 "metadata": {
  "kernelspec": {
   "display_name": "base",
   "language": "python",
   "name": "python3"
  },
  "language_info": {
   "codemirror_mode": {
    "name": "ipython",
    "version": 3
   },
   "file_extension": ".py",
   "mimetype": "text/x-python",
   "name": "python",
   "nbconvert_exporter": "python",
   "pygments_lexer": "ipython3",
   "version": "3.8.13"
  },
  "orig_nbformat": 4
 },
 "nbformat": 4,
 "nbformat_minor": 2
}
