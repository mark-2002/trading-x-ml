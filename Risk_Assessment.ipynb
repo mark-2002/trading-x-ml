{
 "cells": [
  {
   "cell_type": "code",
   "execution_count": 4,
   "metadata": {},
   "outputs": [],
   "source": [
    "import math\n",
    "import numpy as np\n",
    "import numpy.random as npr\n",
    "from pylab import plt,mpl\n",
    "import scipy.stats as scs"
   ]
  },
  {
   "cell_type": "code",
   "execution_count": 2,
   "metadata": {},
   "outputs": [
    {
     "data": {
      "text/plain": [
       "array([-23.11994933, -22.98351247, -22.24822351, ...,  29.1299752 ,\n",
       "        30.24412765,  31.27534772])"
      ]
     },
     "execution_count": 2,
     "metadata": {},
     "output_type": "execute_result"
    }
   ],
   "source": [
    "#Risk Measures using GBM black schles merton model \n",
    "S0=100\n",
    "r=0.05\n",
    "sigma=0.25\n",
    "T = 30/365\n",
    "I = 10000\n",
    "\n",
    "ST = S0*np.exp((r-0.5*sigma**2)*T+sigma*np.sqrt(T)*npr.standard_normal(I))\n",
    "R_gbm = np.sort(ST-S0)\n",
    "\n",
    "R_gbm"
   ]
  },
  {
   "cell_type": "code",
   "execution_count": 8,
   "metadata": {},
   "outputs": [
    {
     "name": "stdout",
     "output_type": "stream",
     "text": [
      " Confidence Leve    Value at Risk\n",
      "           99.99           22.984\n",
      "           99.90           19.935\n",
      "           99.00           15.215\n",
      "           97.50           12.887\n",
      "           95.00           11.042\n",
      "           90.00            8.689\n"
     ]
    }
   ],
   "source": [
    "percentiles = [0.01,0.1,1,2.5,5,10]\n",
    "var = scs.scoreatpercentile(R_gbm,percentiles)\n",
    "print('%16s %16s'%('Confidence Leve','Value at Risk'))\n",
    "for pair in zip(percentiles,var):\n",
    "    print('%16.2f %16.3f' % (100-pair[0],-pair[1]))\n"
   ]
  },
  {
   "cell_type": "code",
   "execution_count": null,
   "metadata": {},
   "outputs": [],
   "source": [
    "#Risk Measures using jumpdiffusion model\n",
    "#cVAR\n"
   ]
  }
 ],
 "metadata": {
  "kernelspec": {
   "display_name": "base",
   "language": "python",
   "name": "python3"
  },
  "language_info": {
   "codemirror_mode": {
    "name": "ipython",
    "version": 3
   },
   "file_extension": ".py",
   "mimetype": "text/x-python",
   "name": "python",
   "nbconvert_exporter": "python",
   "pygments_lexer": "ipython3",
   "version": "3.8.13"
  },
  "orig_nbformat": 4
 },
 "nbformat": 4,
 "nbformat_minor": 2
}
